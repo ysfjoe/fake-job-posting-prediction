{
 "cells": [
  {
   "cell_type": "code",
   "execution_count": 1,
   "metadata": {},
   "outputs": [],
   "source": [
    "import numpy as np\n",
    "import pandas as pd\n",
    "import matplotlib.pyplot as plt\n",
    "import seaborn as sns\n",
    "from sklearn.metrics import classification_report,accuracy_score, confusion_matrix,f1_score, roc_auc_score, roc_curve, precision_recall_curve, auc, balanced_accuracy_score, fbeta_score, recall_score, precision_score\n",
    "from sklearn.preprocessing import RobustScaler\n",
    "from sklearn.model_selection import train_test_split\n",
    "from sklearn.feature_selection import SelectKBest, chi2 , SelectPercentile , f_classif\n",
    "from sklearn.metrics import accuracy_score\n",
    "import random\n",
    "from sklearn.model_selection import train_test_split\n",
    "from sklearn.feature_selection import VarianceThreshold\n",
    "from sklearn.linear_model import LogisticRegression, LogisticRegressionCV\n",
    "from sklearn.ensemble import RandomForestClassifier\n",
    "from sklearn.ensemble import GradientBoostingClassifier\n",
    "from sklearn.model_selection import GridSearchCV\n",
    "from imblearn.under_sampling import RandomUnderSampler\n",
    "from collections import Counter\n",
    "import xgboost as xgb\n",
    "from sklearn.feature_selection import SelectFromModel\n",
    "from sklearn.ensemble import IsolationForest\n",
    "from sklearn.neighbors import LocalOutlierFactor\n",
    "from sklearn.svm import OneClassSVM\n",
    "from utils_fraud import fit_score,variance, correlation, randomForestSelector, Anova, gridSearch,randomForestSelectorRanges\n",
    "from cgans import cGAN\n",
    "from imblearn.over_sampling import SMOTE"
   ]
  },
  {
   "cell_type": "code",
   "execution_count": 2,
   "metadata": {},
   "outputs": [
    {
     "name": "stderr",
     "output_type": "stream",
     "text": [
      "Using TensorFlow backend.\n"
     ]
    }
   ],
   "source": [
    "from keras.models import Sequential\n",
    "from keras.layers import Dense\n",
    "from keras.optimizers import Adam\n",
    "from keras.callbacks import ReduceLROnPlateau, EarlyStopping\n",
    "from sklearn.metrics import average_precision_score, confusion_matrix\n"
   ]
  },
  {
   "cell_type": "code",
   "execution_count": 3,
   "metadata": {},
   "outputs": [],
   "source": [
    "import warnings\n",
    "warnings.filterwarnings(\"ignore\")"
   ]
  },
  {
   "cell_type": "code",
   "execution_count": 4,
   "metadata": {
    "scrolled": true
   },
   "outputs": [
    {
     "data": {
      "text/html": [
       "<div>\n",
       "<style scoped>\n",
       "    .dataframe tbody tr th:only-of-type {\n",
       "        vertical-align: middle;\n",
       "    }\n",
       "\n",
       "    .dataframe tbody tr th {\n",
       "        vertical-align: top;\n",
       "    }\n",
       "\n",
       "    .dataframe thead th {\n",
       "        text-align: right;\n",
       "    }\n",
       "</style>\n",
       "<table border=\"1\" class=\"dataframe\">\n",
       "  <thead>\n",
       "    <tr style=\"text-align: right;\">\n",
       "      <th></th>\n",
       "      <th>Time</th>\n",
       "      <th>V1</th>\n",
       "      <th>V2</th>\n",
       "      <th>V3</th>\n",
       "      <th>V4</th>\n",
       "      <th>V5</th>\n",
       "      <th>V6</th>\n",
       "      <th>V7</th>\n",
       "      <th>V8</th>\n",
       "      <th>V9</th>\n",
       "      <th>...</th>\n",
       "      <th>V21</th>\n",
       "      <th>V22</th>\n",
       "      <th>V23</th>\n",
       "      <th>V24</th>\n",
       "      <th>V25</th>\n",
       "      <th>V26</th>\n",
       "      <th>V27</th>\n",
       "      <th>V28</th>\n",
       "      <th>Amount</th>\n",
       "      <th>Class</th>\n",
       "    </tr>\n",
       "  </thead>\n",
       "  <tbody>\n",
       "    <tr>\n",
       "      <th>0</th>\n",
       "      <td>0.0</td>\n",
       "      <td>-1.359807</td>\n",
       "      <td>-0.072781</td>\n",
       "      <td>2.536347</td>\n",
       "      <td>1.378155</td>\n",
       "      <td>-0.338321</td>\n",
       "      <td>0.462388</td>\n",
       "      <td>0.239599</td>\n",
       "      <td>0.098698</td>\n",
       "      <td>0.363787</td>\n",
       "      <td>...</td>\n",
       "      <td>-0.018307</td>\n",
       "      <td>0.277838</td>\n",
       "      <td>-0.110474</td>\n",
       "      <td>0.066928</td>\n",
       "      <td>0.128539</td>\n",
       "      <td>-0.189115</td>\n",
       "      <td>0.133558</td>\n",
       "      <td>-0.021053</td>\n",
       "      <td>149.62</td>\n",
       "      <td>0</td>\n",
       "    </tr>\n",
       "    <tr>\n",
       "      <th>1</th>\n",
       "      <td>0.0</td>\n",
       "      <td>1.191857</td>\n",
       "      <td>0.266151</td>\n",
       "      <td>0.166480</td>\n",
       "      <td>0.448154</td>\n",
       "      <td>0.060018</td>\n",
       "      <td>-0.082361</td>\n",
       "      <td>-0.078803</td>\n",
       "      <td>0.085102</td>\n",
       "      <td>-0.255425</td>\n",
       "      <td>...</td>\n",
       "      <td>-0.225775</td>\n",
       "      <td>-0.638672</td>\n",
       "      <td>0.101288</td>\n",
       "      <td>-0.339846</td>\n",
       "      <td>0.167170</td>\n",
       "      <td>0.125895</td>\n",
       "      <td>-0.008983</td>\n",
       "      <td>0.014724</td>\n",
       "      <td>2.69</td>\n",
       "      <td>0</td>\n",
       "    </tr>\n",
       "    <tr>\n",
       "      <th>2</th>\n",
       "      <td>1.0</td>\n",
       "      <td>-1.358354</td>\n",
       "      <td>-1.340163</td>\n",
       "      <td>1.773209</td>\n",
       "      <td>0.379780</td>\n",
       "      <td>-0.503198</td>\n",
       "      <td>1.800499</td>\n",
       "      <td>0.791461</td>\n",
       "      <td>0.247676</td>\n",
       "      <td>-1.514654</td>\n",
       "      <td>...</td>\n",
       "      <td>0.247998</td>\n",
       "      <td>0.771679</td>\n",
       "      <td>0.909412</td>\n",
       "      <td>-0.689281</td>\n",
       "      <td>-0.327642</td>\n",
       "      <td>-0.139097</td>\n",
       "      <td>-0.055353</td>\n",
       "      <td>-0.059752</td>\n",
       "      <td>378.66</td>\n",
       "      <td>0</td>\n",
       "    </tr>\n",
       "    <tr>\n",
       "      <th>3</th>\n",
       "      <td>1.0</td>\n",
       "      <td>-0.966272</td>\n",
       "      <td>-0.185226</td>\n",
       "      <td>1.792993</td>\n",
       "      <td>-0.863291</td>\n",
       "      <td>-0.010309</td>\n",
       "      <td>1.247203</td>\n",
       "      <td>0.237609</td>\n",
       "      <td>0.377436</td>\n",
       "      <td>-1.387024</td>\n",
       "      <td>...</td>\n",
       "      <td>-0.108300</td>\n",
       "      <td>0.005274</td>\n",
       "      <td>-0.190321</td>\n",
       "      <td>-1.175575</td>\n",
       "      <td>0.647376</td>\n",
       "      <td>-0.221929</td>\n",
       "      <td>0.062723</td>\n",
       "      <td>0.061458</td>\n",
       "      <td>123.50</td>\n",
       "      <td>0</td>\n",
       "    </tr>\n",
       "    <tr>\n",
       "      <th>4</th>\n",
       "      <td>2.0</td>\n",
       "      <td>-1.158233</td>\n",
       "      <td>0.877737</td>\n",
       "      <td>1.548718</td>\n",
       "      <td>0.403034</td>\n",
       "      <td>-0.407193</td>\n",
       "      <td>0.095921</td>\n",
       "      <td>0.592941</td>\n",
       "      <td>-0.270533</td>\n",
       "      <td>0.817739</td>\n",
       "      <td>...</td>\n",
       "      <td>-0.009431</td>\n",
       "      <td>0.798278</td>\n",
       "      <td>-0.137458</td>\n",
       "      <td>0.141267</td>\n",
       "      <td>-0.206010</td>\n",
       "      <td>0.502292</td>\n",
       "      <td>0.219422</td>\n",
       "      <td>0.215153</td>\n",
       "      <td>69.99</td>\n",
       "      <td>0</td>\n",
       "    </tr>\n",
       "  </tbody>\n",
       "</table>\n",
       "<p>5 rows × 31 columns</p>\n",
       "</div>"
      ],
      "text/plain": [
       "   Time        V1        V2        V3        V4        V5        V6        V7  \\\n",
       "0   0.0 -1.359807 -0.072781  2.536347  1.378155 -0.338321  0.462388  0.239599   \n",
       "1   0.0  1.191857  0.266151  0.166480  0.448154  0.060018 -0.082361 -0.078803   \n",
       "2   1.0 -1.358354 -1.340163  1.773209  0.379780 -0.503198  1.800499  0.791461   \n",
       "3   1.0 -0.966272 -0.185226  1.792993 -0.863291 -0.010309  1.247203  0.237609   \n",
       "4   2.0 -1.158233  0.877737  1.548718  0.403034 -0.407193  0.095921  0.592941   \n",
       "\n",
       "         V8        V9  ...       V21       V22       V23       V24       V25  \\\n",
       "0  0.098698  0.363787  ... -0.018307  0.277838 -0.110474  0.066928  0.128539   \n",
       "1  0.085102 -0.255425  ... -0.225775 -0.638672  0.101288 -0.339846  0.167170   \n",
       "2  0.247676 -1.514654  ...  0.247998  0.771679  0.909412 -0.689281 -0.327642   \n",
       "3  0.377436 -1.387024  ... -0.108300  0.005274 -0.190321 -1.175575  0.647376   \n",
       "4 -0.270533  0.817739  ... -0.009431  0.798278 -0.137458  0.141267 -0.206010   \n",
       "\n",
       "        V26       V27       V28  Amount  Class  \n",
       "0 -0.189115  0.133558 -0.021053  149.62      0  \n",
       "1  0.125895 -0.008983  0.014724    2.69      0  \n",
       "2 -0.139097 -0.055353 -0.059752  378.66      0  \n",
       "3 -0.221929  0.062723  0.061458  123.50      0  \n",
       "4  0.502292  0.219422  0.215153   69.99      0  \n",
       "\n",
       "[5 rows x 31 columns]"
      ]
     },
     "execution_count": 4,
     "metadata": {},
     "output_type": "execute_result"
    }
   ],
   "source": [
    "data = pd.read_csv('creditcard.csv')\n",
    "data.head()"
   ]
  },
  {
   "cell_type": "markdown",
   "metadata": {},
   "source": [
    "## create test  data"
   ]
  },
  {
   "cell_type": "code",
   "execution_count": 5,
   "metadata": {},
   "outputs": [
    {
     "data": {
      "text/plain": [
       "(492, 31)"
      ]
     },
     "execution_count": 5,
     "metadata": {},
     "output_type": "execute_result"
    }
   ],
   "source": [
    "data_class_fraud=data.loc[data['Class'] == 1]\n",
    "data_class_fraud.shape"
   ]
  },
  {
   "cell_type": "code",
   "execution_count": 6,
   "metadata": {},
   "outputs": [
    {
     "data": {
      "text/plain": [
       "(100, 31)"
      ]
     },
     "execution_count": 6,
     "metadata": {},
     "output_type": "execute_result"
    }
   ],
   "source": [
    "zz=data_class_fraud.iloc[:100,:]\n",
    "zz.shape"
   ]
  },
  {
   "cell_type": "code",
   "execution_count": 7,
   "metadata": {},
   "outputs": [],
   "source": [
    "data_nonfraud = data.loc[data['Class'] == 0]"
   ]
  },
  {
   "cell_type": "code",
   "execution_count": 8,
   "metadata": {},
   "outputs": [
    {
     "data": {
      "text/plain": [
       "(2843, 31)"
      ]
     },
     "execution_count": 8,
     "metadata": {},
     "output_type": "execute_result"
    }
   ],
   "source": [
    "nn=data_nonfraud.sample(frac =.01)\n",
    "nn.shape"
   ]
  },
  {
   "cell_type": "code",
   "execution_count": 9,
   "metadata": {},
   "outputs": [
    {
     "data": {
      "text/plain": [
       "(2943, 31)"
      ]
     },
     "execution_count": 9,
     "metadata": {},
     "output_type": "execute_result"
    }
   ],
   "source": [
    "test_origin=pd.concat([zz, nn], axis=0, sort=False)\n",
    "test_origin.shape"
   ]
  },
  {
   "cell_type": "code",
   "execution_count": 10,
   "metadata": {},
   "outputs": [
    {
     "data": {
      "text/plain": [
       "(2943, 31)"
      ]
     },
     "execution_count": 10,
     "metadata": {},
     "output_type": "execute_result"
    }
   ],
   "source": [
    "# we shuffle our test data\n",
    "test_origin=test_origin.sample(frac=1)\n",
    "test_origin.shape"
   ]
  },
  {
   "cell_type": "code",
   "execution_count": 11,
   "metadata": {},
   "outputs": [
    {
     "data": {
      "text/plain": [
       "(2943, 30)"
      ]
     },
     "execution_count": 11,
     "metadata": {},
     "output_type": "execute_result"
    }
   ],
   "source": [
    "x_test_origin=test_origin.drop(['Class'],axis=1)\n",
    "x_test_origin.shape"
   ]
  },
  {
   "cell_type": "code",
   "execution_count": 12,
   "metadata": {},
   "outputs": [
    {
     "data": {
      "text/plain": [
       "(2943,)"
      ]
     },
     "execution_count": 12,
     "metadata": {},
     "output_type": "execute_result"
    }
   ],
   "source": [
    "y_test_origin= test_origin['Class']\n",
    "y_test_origin.shape"
   ]
  },
  {
   "cell_type": "code",
   "execution_count": 13,
   "metadata": {},
   "outputs": [
    {
     "data": {
      "text/plain": [
       "(284806, 31)"
      ]
     },
     "execution_count": 13,
     "metadata": {},
     "output_type": "execute_result"
    }
   ],
   "source": [
    "data_train=data.drop([test_origin.index[0]],axis=0)\n",
    "data_train.shape"
   ]
  },
  {
   "cell_type": "markdown",
   "metadata": {},
   "source": [
    "## we normalize our test data and train data"
   ]
  },
  {
   "cell_type": "code",
   "execution_count": 14,
   "metadata": {},
   "outputs": [
    {
     "data": {
      "text/html": [
       "<div>\n",
       "<style scoped>\n",
       "    .dataframe tbody tr th:only-of-type {\n",
       "        vertical-align: middle;\n",
       "    }\n",
       "\n",
       "    .dataframe tbody tr th {\n",
       "        vertical-align: top;\n",
       "    }\n",
       "\n",
       "    .dataframe thead th {\n",
       "        text-align: right;\n",
       "    }\n",
       "</style>\n",
       "<table border=\"1\" class=\"dataframe\">\n",
       "  <thead>\n",
       "    <tr style=\"text-align: right;\">\n",
       "      <th></th>\n",
       "      <th>scaled_amount</th>\n",
       "      <th>scaled_time</th>\n",
       "      <th>V1</th>\n",
       "      <th>V2</th>\n",
       "      <th>V3</th>\n",
       "      <th>V4</th>\n",
       "      <th>V5</th>\n",
       "      <th>V6</th>\n",
       "      <th>V7</th>\n",
       "      <th>V8</th>\n",
       "      <th>...</th>\n",
       "      <th>V19</th>\n",
       "      <th>V20</th>\n",
       "      <th>V21</th>\n",
       "      <th>V22</th>\n",
       "      <th>V23</th>\n",
       "      <th>V24</th>\n",
       "      <th>V25</th>\n",
       "      <th>V26</th>\n",
       "      <th>V27</th>\n",
       "      <th>V28</th>\n",
       "    </tr>\n",
       "  </thead>\n",
       "  <tbody>\n",
       "    <tr>\n",
       "      <th>148789</th>\n",
       "      <td>-0.220452</td>\n",
       "      <td>0.096130</td>\n",
       "      <td>-1.534058</td>\n",
       "      <td>0.532045</td>\n",
       "      <td>1.511501</td>\n",
       "      <td>-0.461526</td>\n",
       "      <td>1.615022</td>\n",
       "      <td>-1.269228</td>\n",
       "      <td>0.782189</td>\n",
       "      <td>-0.574667</td>\n",
       "      <td>...</td>\n",
       "      <td>-0.130487</td>\n",
       "      <td>-0.122873</td>\n",
       "      <td>-0.569764</td>\n",
       "      <td>-0.942380</td>\n",
       "      <td>-0.548829</td>\n",
       "      <td>-0.007667</td>\n",
       "      <td>0.481685</td>\n",
       "      <td>0.253688</td>\n",
       "      <td>-0.107589</td>\n",
       "      <td>-0.140720</td>\n",
       "    </tr>\n",
       "    <tr>\n",
       "      <th>139828</th>\n",
       "      <td>-0.159041</td>\n",
       "      <td>0.018099</td>\n",
       "      <td>-1.097397</td>\n",
       "      <td>0.069442</td>\n",
       "      <td>2.790521</td>\n",
       "      <td>1.224827</td>\n",
       "      <td>0.100116</td>\n",
       "      <td>-0.345517</td>\n",
       "      <td>-0.384136</td>\n",
       "      <td>0.238025</td>\n",
       "      <td>...</td>\n",
       "      <td>0.688420</td>\n",
       "      <td>0.253821</td>\n",
       "      <td>0.056220</td>\n",
       "      <td>0.137825</td>\n",
       "      <td>-0.139211</td>\n",
       "      <td>0.398934</td>\n",
       "      <td>0.282403</td>\n",
       "      <td>-0.275857</td>\n",
       "      <td>0.105729</td>\n",
       "      <td>0.106821</td>\n",
       "    </tr>\n",
       "    <tr>\n",
       "      <th>97184</th>\n",
       "      <td>-0.282952</td>\n",
       "      <td>-0.179302</td>\n",
       "      <td>1.196142</td>\n",
       "      <td>0.240170</td>\n",
       "      <td>0.630515</td>\n",
       "      <td>0.643610</td>\n",
       "      <td>-0.419281</td>\n",
       "      <td>-0.701367</td>\n",
       "      <td>0.014858</td>\n",
       "      <td>-0.108586</td>\n",
       "      <td>...</td>\n",
       "      <td>-0.602604</td>\n",
       "      <td>-0.113892</td>\n",
       "      <td>-0.204660</td>\n",
       "      <td>-0.539284</td>\n",
       "      <td>0.202756</td>\n",
       "      <td>0.404986</td>\n",
       "      <td>0.113806</td>\n",
       "      <td>0.102906</td>\n",
       "      <td>-0.009572</td>\n",
       "      <td>0.019552</td>\n",
       "    </tr>\n",
       "    <tr>\n",
       "      <th>10071</th>\n",
       "      <td>-0.254357</td>\n",
       "      <td>-0.760001</td>\n",
       "      <td>-0.780471</td>\n",
       "      <td>1.908769</td>\n",
       "      <td>-0.559762</td>\n",
       "      <td>0.918872</td>\n",
       "      <td>0.243109</td>\n",
       "      <td>-0.218734</td>\n",
       "      <td>0.058477</td>\n",
       "      <td>0.775375</td>\n",
       "      <td>...</td>\n",
       "      <td>0.188692</td>\n",
       "      <td>-0.043997</td>\n",
       "      <td>0.105470</td>\n",
       "      <td>0.615375</td>\n",
       "      <td>0.106826</td>\n",
       "      <td>-0.335056</td>\n",
       "      <td>-0.666344</td>\n",
       "      <td>-0.415076</td>\n",
       "      <td>0.286900</td>\n",
       "      <td>0.142378</td>\n",
       "    </tr>\n",
       "    <tr>\n",
       "      <th>62956</th>\n",
       "      <td>0.394063</td>\n",
       "      <td>-0.357702</td>\n",
       "      <td>-1.776959</td>\n",
       "      <td>1.756367</td>\n",
       "      <td>0.466962</td>\n",
       "      <td>0.684352</td>\n",
       "      <td>-0.673629</td>\n",
       "      <td>-0.623018</td>\n",
       "      <td>0.407954</td>\n",
       "      <td>0.415924</td>\n",
       "      <td>...</td>\n",
       "      <td>0.546270</td>\n",
       "      <td>0.168615</td>\n",
       "      <td>0.092639</td>\n",
       "      <td>0.468529</td>\n",
       "      <td>-0.000094</td>\n",
       "      <td>0.510223</td>\n",
       "      <td>-0.118419</td>\n",
       "      <td>-0.346327</td>\n",
       "      <td>0.372998</td>\n",
       "      <td>0.355829</td>\n",
       "    </tr>\n",
       "  </tbody>\n",
       "</table>\n",
       "<p>5 rows × 30 columns</p>\n",
       "</div>"
      ],
      "text/plain": [
       "        scaled_amount  scaled_time        V1        V2        V3        V4  \\\n",
       "148789      -0.220452     0.096130 -1.534058  0.532045  1.511501 -0.461526   \n",
       "139828      -0.159041     0.018099 -1.097397  0.069442  2.790521  1.224827   \n",
       "97184       -0.282952    -0.179302  1.196142  0.240170  0.630515  0.643610   \n",
       "10071       -0.254357    -0.760001 -0.780471  1.908769 -0.559762  0.918872   \n",
       "62956        0.394063    -0.357702 -1.776959  1.756367  0.466962  0.684352   \n",
       "\n",
       "              V5        V6        V7        V8  ...       V19       V20  \\\n",
       "148789  1.615022 -1.269228  0.782189 -0.574667  ... -0.130487 -0.122873   \n",
       "139828  0.100116 -0.345517 -0.384136  0.238025  ...  0.688420  0.253821   \n",
       "97184  -0.419281 -0.701367  0.014858 -0.108586  ... -0.602604 -0.113892   \n",
       "10071   0.243109 -0.218734  0.058477  0.775375  ...  0.188692 -0.043997   \n",
       "62956  -0.673629 -0.623018  0.407954  0.415924  ...  0.546270  0.168615   \n",
       "\n",
       "             V21       V22       V23       V24       V25       V26       V27  \\\n",
       "148789 -0.569764 -0.942380 -0.548829 -0.007667  0.481685  0.253688 -0.107589   \n",
       "139828  0.056220  0.137825 -0.139211  0.398934  0.282403 -0.275857  0.105729   \n",
       "97184  -0.204660 -0.539284  0.202756  0.404986  0.113806  0.102906 -0.009572   \n",
       "10071   0.105470  0.615375  0.106826 -0.335056 -0.666344 -0.415076  0.286900   \n",
       "62956   0.092639  0.468529 -0.000094  0.510223 -0.118419 -0.346327  0.372998   \n",
       "\n",
       "             V28  \n",
       "148789 -0.140720  \n",
       "139828  0.106821  \n",
       "97184   0.019552  \n",
       "10071   0.142378  \n",
       "62956   0.355829  \n",
       "\n",
       "[5 rows x 30 columns]"
      ]
     },
     "execution_count": 14,
     "metadata": {},
     "output_type": "execute_result"
    }
   ],
   "source": [
    "rob_scaler = RobustScaler()\n",
    "scaled_amount = rob_scaler.fit_transform(x_test_origin['Amount'].values.reshape(-1,1))\n",
    "scaled_time = rob_scaler.fit_transform(x_test_origin['Time'].values.reshape(-1,1))\n",
    "x_test_origin.insert(0, 'scaled_amount', scaled_amount)\n",
    "x_test_origin.insert(1, 'scaled_time', scaled_time)\n",
    "x_test_origin.drop(['Time','Amount'], axis=1, inplace=True)\n",
    "x_test_origin.head()"
   ]
  },
  {
   "cell_type": "code",
   "execution_count": 15,
   "metadata": {},
   "outputs": [
    {
     "data": {
      "text/html": [
       "<div>\n",
       "<style scoped>\n",
       "    .dataframe tbody tr th:only-of-type {\n",
       "        vertical-align: middle;\n",
       "    }\n",
       "\n",
       "    .dataframe tbody tr th {\n",
       "        vertical-align: top;\n",
       "    }\n",
       "\n",
       "    .dataframe thead th {\n",
       "        text-align: right;\n",
       "    }\n",
       "</style>\n",
       "<table border=\"1\" class=\"dataframe\">\n",
       "  <thead>\n",
       "    <tr style=\"text-align: right;\">\n",
       "      <th></th>\n",
       "      <th>scaled_amount</th>\n",
       "      <th>scaled_time</th>\n",
       "      <th>V1</th>\n",
       "      <th>V2</th>\n",
       "      <th>V3</th>\n",
       "      <th>V4</th>\n",
       "      <th>V5</th>\n",
       "      <th>V6</th>\n",
       "      <th>V7</th>\n",
       "      <th>V8</th>\n",
       "      <th>...</th>\n",
       "      <th>V20</th>\n",
       "      <th>V21</th>\n",
       "      <th>V22</th>\n",
       "      <th>V23</th>\n",
       "      <th>V24</th>\n",
       "      <th>V25</th>\n",
       "      <th>V26</th>\n",
       "      <th>V27</th>\n",
       "      <th>V28</th>\n",
       "      <th>Class</th>\n",
       "    </tr>\n",
       "  </thead>\n",
       "  <tbody>\n",
       "    <tr>\n",
       "      <th>0</th>\n",
       "      <td>1.783212</td>\n",
       "      <td>-0.994972</td>\n",
       "      <td>-1.359807</td>\n",
       "      <td>-0.072781</td>\n",
       "      <td>2.536347</td>\n",
       "      <td>1.378155</td>\n",
       "      <td>-0.338321</td>\n",
       "      <td>0.462388</td>\n",
       "      <td>0.239599</td>\n",
       "      <td>0.098698</td>\n",
       "      <td>...</td>\n",
       "      <td>0.251412</td>\n",
       "      <td>-0.018307</td>\n",
       "      <td>0.277838</td>\n",
       "      <td>-0.110474</td>\n",
       "      <td>0.066928</td>\n",
       "      <td>0.128539</td>\n",
       "      <td>-0.189115</td>\n",
       "      <td>0.133558</td>\n",
       "      <td>-0.021053</td>\n",
       "      <td>0</td>\n",
       "    </tr>\n",
       "    <tr>\n",
       "      <th>1</th>\n",
       "      <td>-0.269815</td>\n",
       "      <td>-0.994972</td>\n",
       "      <td>1.191857</td>\n",
       "      <td>0.266151</td>\n",
       "      <td>0.166480</td>\n",
       "      <td>0.448154</td>\n",
       "      <td>0.060018</td>\n",
       "      <td>-0.082361</td>\n",
       "      <td>-0.078803</td>\n",
       "      <td>0.085102</td>\n",
       "      <td>...</td>\n",
       "      <td>-0.069083</td>\n",
       "      <td>-0.225775</td>\n",
       "      <td>-0.638672</td>\n",
       "      <td>0.101288</td>\n",
       "      <td>-0.339846</td>\n",
       "      <td>0.167170</td>\n",
       "      <td>0.125895</td>\n",
       "      <td>-0.008983</td>\n",
       "      <td>0.014724</td>\n",
       "      <td>0</td>\n",
       "    </tr>\n",
       "    <tr>\n",
       "      <th>2</th>\n",
       "      <td>4.983547</td>\n",
       "      <td>-0.994960</td>\n",
       "      <td>-1.358354</td>\n",
       "      <td>-1.340163</td>\n",
       "      <td>1.773209</td>\n",
       "      <td>0.379780</td>\n",
       "      <td>-0.503198</td>\n",
       "      <td>1.800499</td>\n",
       "      <td>0.791461</td>\n",
       "      <td>0.247676</td>\n",
       "      <td>...</td>\n",
       "      <td>0.524980</td>\n",
       "      <td>0.247998</td>\n",
       "      <td>0.771679</td>\n",
       "      <td>0.909412</td>\n",
       "      <td>-0.689281</td>\n",
       "      <td>-0.327642</td>\n",
       "      <td>-0.139097</td>\n",
       "      <td>-0.055353</td>\n",
       "      <td>-0.059752</td>\n",
       "      <td>0</td>\n",
       "    </tr>\n",
       "    <tr>\n",
       "      <th>3</th>\n",
       "      <td>1.418242</td>\n",
       "      <td>-0.994960</td>\n",
       "      <td>-0.966272</td>\n",
       "      <td>-0.185226</td>\n",
       "      <td>1.792993</td>\n",
       "      <td>-0.863291</td>\n",
       "      <td>-0.010309</td>\n",
       "      <td>1.247203</td>\n",
       "      <td>0.237609</td>\n",
       "      <td>0.377436</td>\n",
       "      <td>...</td>\n",
       "      <td>-0.208038</td>\n",
       "      <td>-0.108300</td>\n",
       "      <td>0.005274</td>\n",
       "      <td>-0.190321</td>\n",
       "      <td>-1.175575</td>\n",
       "      <td>0.647376</td>\n",
       "      <td>-0.221929</td>\n",
       "      <td>0.062723</td>\n",
       "      <td>0.061458</td>\n",
       "      <td>0</td>\n",
       "    </tr>\n",
       "    <tr>\n",
       "      <th>4</th>\n",
       "      <td>0.670556</td>\n",
       "      <td>-0.994948</td>\n",
       "      <td>-1.158233</td>\n",
       "      <td>0.877737</td>\n",
       "      <td>1.548718</td>\n",
       "      <td>0.403034</td>\n",
       "      <td>-0.407193</td>\n",
       "      <td>0.095921</td>\n",
       "      <td>0.592941</td>\n",
       "      <td>-0.270533</td>\n",
       "      <td>...</td>\n",
       "      <td>0.408542</td>\n",
       "      <td>-0.009431</td>\n",
       "      <td>0.798278</td>\n",
       "      <td>-0.137458</td>\n",
       "      <td>0.141267</td>\n",
       "      <td>-0.206010</td>\n",
       "      <td>0.502292</td>\n",
       "      <td>0.219422</td>\n",
       "      <td>0.215153</td>\n",
       "      <td>0</td>\n",
       "    </tr>\n",
       "  </tbody>\n",
       "</table>\n",
       "<p>5 rows × 31 columns</p>\n",
       "</div>"
      ],
      "text/plain": [
       "   scaled_amount  scaled_time        V1        V2        V3        V4  \\\n",
       "0       1.783212    -0.994972 -1.359807 -0.072781  2.536347  1.378155   \n",
       "1      -0.269815    -0.994972  1.191857  0.266151  0.166480  0.448154   \n",
       "2       4.983547    -0.994960 -1.358354 -1.340163  1.773209  0.379780   \n",
       "3       1.418242    -0.994960 -0.966272 -0.185226  1.792993 -0.863291   \n",
       "4       0.670556    -0.994948 -1.158233  0.877737  1.548718  0.403034   \n",
       "\n",
       "         V5        V6        V7        V8  ...       V20       V21       V22  \\\n",
       "0 -0.338321  0.462388  0.239599  0.098698  ...  0.251412 -0.018307  0.277838   \n",
       "1  0.060018 -0.082361 -0.078803  0.085102  ... -0.069083 -0.225775 -0.638672   \n",
       "2 -0.503198  1.800499  0.791461  0.247676  ...  0.524980  0.247998  0.771679   \n",
       "3 -0.010309  1.247203  0.237609  0.377436  ... -0.208038 -0.108300  0.005274   \n",
       "4 -0.407193  0.095921  0.592941 -0.270533  ...  0.408542 -0.009431  0.798278   \n",
       "\n",
       "        V23       V24       V25       V26       V27       V28  Class  \n",
       "0 -0.110474  0.066928  0.128539 -0.189115  0.133558 -0.021053      0  \n",
       "1  0.101288 -0.339846  0.167170  0.125895 -0.008983  0.014724      0  \n",
       "2  0.909412 -0.689281 -0.327642 -0.139097 -0.055353 -0.059752      0  \n",
       "3 -0.190321 -1.175575  0.647376 -0.221929  0.062723  0.061458      0  \n",
       "4 -0.137458  0.141267 -0.206010  0.502292  0.219422  0.215153      0  \n",
       "\n",
       "[5 rows x 31 columns]"
      ]
     },
     "execution_count": 15,
     "metadata": {},
     "output_type": "execute_result"
    }
   ],
   "source": [
    "rob_scaler = RobustScaler()\n",
    "scaled_amount = rob_scaler.fit_transform(data_train['Amount'].values.reshape(-1,1))\n",
    "scaled_time = rob_scaler.fit_transform(data_train['Time'].values.reshape(-1,1))\n",
    "data_train.insert(0, 'scaled_amount', scaled_amount)\n",
    "data_train.insert(1, 'scaled_time', scaled_time)\n",
    "data_train.drop(['Time','Amount'], axis=1, inplace=True)\n",
    "data_train.head()"
   ]
  },
  {
   "cell_type": "markdown",
   "metadata": {},
   "source": [
    "<h1>Random under sampling</h1>\n",
    "<p>We will use the random undersampler function to balance our data</p>"
   ]
  },
  {
   "cell_type": "code",
   "execution_count": 16,
   "metadata": {},
   "outputs": [],
   "source": [
    "X_train_origin = data_train.drop('Class', axis=1)\n",
    "Y_train_origin = data_train['Class']"
   ]
  },
  {
   "cell_type": "code",
   "execution_count": 17,
   "metadata": {},
   "outputs": [
    {
     "name": "stdout",
     "output_type": "stream",
     "text": [
      "984\n"
     ]
    },
    {
     "data": {
      "text/html": [
       "<div>\n",
       "<style scoped>\n",
       "    .dataframe tbody tr th:only-of-type {\n",
       "        vertical-align: middle;\n",
       "    }\n",
       "\n",
       "    .dataframe tbody tr th {\n",
       "        vertical-align: top;\n",
       "    }\n",
       "\n",
       "    .dataframe thead th {\n",
       "        text-align: right;\n",
       "    }\n",
       "</style>\n",
       "<table border=\"1\" class=\"dataframe\">\n",
       "  <thead>\n",
       "    <tr style=\"text-align: right;\">\n",
       "      <th></th>\n",
       "      <th>scaled_amount</th>\n",
       "      <th>scaled_time</th>\n",
       "      <th>V1</th>\n",
       "      <th>V2</th>\n",
       "      <th>V3</th>\n",
       "      <th>V4</th>\n",
       "      <th>V5</th>\n",
       "      <th>V6</th>\n",
       "      <th>V7</th>\n",
       "      <th>V8</th>\n",
       "      <th>...</th>\n",
       "      <th>V20</th>\n",
       "      <th>V21</th>\n",
       "      <th>V22</th>\n",
       "      <th>V23</th>\n",
       "      <th>V24</th>\n",
       "      <th>V25</th>\n",
       "      <th>V26</th>\n",
       "      <th>V27</th>\n",
       "      <th>V28</th>\n",
       "      <th>Class</th>\n",
       "    </tr>\n",
       "  </thead>\n",
       "  <tbody>\n",
       "    <tr>\n",
       "      <th>0</th>\n",
       "      <td>0.693751</td>\n",
       "      <td>0.716728</td>\n",
       "      <td>1.974725</td>\n",
       "      <td>0.029901</td>\n",
       "      <td>-2.051231</td>\n",
       "      <td>0.421964</td>\n",
       "      <td>0.487407</td>\n",
       "      <td>-1.089438</td>\n",
       "      <td>0.398110</td>\n",
       "      <td>-0.409847</td>\n",
       "      <td>...</td>\n",
       "      <td>-0.000104</td>\n",
       "      <td>0.199566</td>\n",
       "      <td>0.635917</td>\n",
       "      <td>-0.174414</td>\n",
       "      <td>-0.695667</td>\n",
       "      <td>0.344301</td>\n",
       "      <td>-0.070238</td>\n",
       "      <td>-0.011543</td>\n",
       "      <td>-0.024736</td>\n",
       "      <td>0</td>\n",
       "    </tr>\n",
       "    <tr>\n",
       "      <th>1</th>\n",
       "      <td>-0.251371</td>\n",
       "      <td>-0.857013</td>\n",
       "      <td>-0.505372</td>\n",
       "      <td>1.279945</td>\n",
       "      <td>0.807395</td>\n",
       "      <td>0.486464</td>\n",
       "      <td>-0.239971</td>\n",
       "      <td>-0.950016</td>\n",
       "      <td>0.359865</td>\n",
       "      <td>-0.255986</td>\n",
       "      <td>...</td>\n",
       "      <td>0.068281</td>\n",
       "      <td>-0.092533</td>\n",
       "      <td>-0.042785</td>\n",
       "      <td>-0.083584</td>\n",
       "      <td>0.432027</td>\n",
       "      <td>-0.412412</td>\n",
       "      <td>1.123740</td>\n",
       "      <td>-0.732085</td>\n",
       "      <td>-0.244393</td>\n",
       "      <td>0</td>\n",
       "    </tr>\n",
       "    <tr>\n",
       "      <th>2</th>\n",
       "      <td>0.015370</td>\n",
       "      <td>-0.870441</td>\n",
       "      <td>1.231712</td>\n",
       "      <td>-0.089101</td>\n",
       "      <td>0.655684</td>\n",
       "      <td>0.406777</td>\n",
       "      <td>-0.696112</td>\n",
       "      <td>-0.701142</td>\n",
       "      <td>-0.252769</td>\n",
       "      <td>-0.229943</td>\n",
       "      <td>...</td>\n",
       "      <td>-0.081947</td>\n",
       "      <td>-0.252820</td>\n",
       "      <td>-0.260043</td>\n",
       "      <td>-0.064598</td>\n",
       "      <td>0.445576</td>\n",
       "      <td>0.421992</td>\n",
       "      <td>1.070156</td>\n",
       "      <td>-0.095377</td>\n",
       "      <td>-0.002946</td>\n",
       "      <td>0</td>\n",
       "    </tr>\n",
       "    <tr>\n",
       "      <th>3</th>\n",
       "      <td>1.311769</td>\n",
       "      <td>0.018016</td>\n",
       "      <td>1.072747</td>\n",
       "      <td>-0.285097</td>\n",
       "      <td>-1.247048</td>\n",
       "      <td>0.025080</td>\n",
       "      <td>2.040874</td>\n",
       "      <td>3.407150</td>\n",
       "      <td>-0.322519</td>\n",
       "      <td>0.782215</td>\n",
       "      <td>...</td>\n",
       "      <td>0.213113</td>\n",
       "      <td>-0.039386</td>\n",
       "      <td>-0.490331</td>\n",
       "      <td>-0.153819</td>\n",
       "      <td>0.991068</td>\n",
       "      <td>0.661190</td>\n",
       "      <td>-0.435313</td>\n",
       "      <td>0.003800</td>\n",
       "      <td>0.038316</td>\n",
       "      <td>0</td>\n",
       "    </tr>\n",
       "    <tr>\n",
       "      <th>4</th>\n",
       "      <td>-0.271212</td>\n",
       "      <td>0.694794</td>\n",
       "      <td>-0.098760</td>\n",
       "      <td>0.417296</td>\n",
       "      <td>0.961061</td>\n",
       "      <td>-0.663476</td>\n",
       "      <td>0.187826</td>\n",
       "      <td>0.151540</td>\n",
       "      <td>-0.014324</td>\n",
       "      <td>0.005897</td>\n",
       "      <td>...</td>\n",
       "      <td>0.201473</td>\n",
       "      <td>0.094410</td>\n",
       "      <td>0.878668</td>\n",
       "      <td>0.083660</td>\n",
       "      <td>0.291908</td>\n",
       "      <td>-1.643540</td>\n",
       "      <td>0.250842</td>\n",
       "      <td>0.321098</td>\n",
       "      <td>0.003652</td>\n",
       "      <td>0</td>\n",
       "    </tr>\n",
       "    <tr>\n",
       "      <th>...</th>\n",
       "      <td>...</td>\n",
       "      <td>...</td>\n",
       "      <td>...</td>\n",
       "      <td>...</td>\n",
       "      <td>...</td>\n",
       "      <td>...</td>\n",
       "      <td>...</td>\n",
       "      <td>...</td>\n",
       "      <td>...</td>\n",
       "      <td>...</td>\n",
       "      <td>...</td>\n",
       "      <td>...</td>\n",
       "      <td>...</td>\n",
       "      <td>...</td>\n",
       "      <td>...</td>\n",
       "      <td>...</td>\n",
       "      <td>...</td>\n",
       "      <td>...</td>\n",
       "      <td>...</td>\n",
       "      <td>...</td>\n",
       "      <td>...</td>\n",
       "    </tr>\n",
       "    <tr>\n",
       "      <th>979</th>\n",
       "      <td>5.141999</td>\n",
       "      <td>0.992140</td>\n",
       "      <td>-1.927883</td>\n",
       "      <td>1.125653</td>\n",
       "      <td>-4.518331</td>\n",
       "      <td>1.749293</td>\n",
       "      <td>-1.566487</td>\n",
       "      <td>-2.010494</td>\n",
       "      <td>-0.882850</td>\n",
       "      <td>0.697211</td>\n",
       "      <td>...</td>\n",
       "      <td>1.252967</td>\n",
       "      <td>0.778584</td>\n",
       "      <td>-0.319189</td>\n",
       "      <td>0.639419</td>\n",
       "      <td>-0.294885</td>\n",
       "      <td>0.537503</td>\n",
       "      <td>0.788395</td>\n",
       "      <td>0.292680</td>\n",
       "      <td>0.147968</td>\n",
       "      <td>1</td>\n",
       "    </tr>\n",
       "    <tr>\n",
       "      <th>980</th>\n",
       "      <td>-0.296783</td>\n",
       "      <td>0.994549</td>\n",
       "      <td>1.378559</td>\n",
       "      <td>1.289381</td>\n",
       "      <td>-5.004247</td>\n",
       "      <td>1.411850</td>\n",
       "      <td>0.442581</td>\n",
       "      <td>-1.326536</td>\n",
       "      <td>-1.413170</td>\n",
       "      <td>0.248525</td>\n",
       "      <td>...</td>\n",
       "      <td>0.226138</td>\n",
       "      <td>0.370612</td>\n",
       "      <td>0.028234</td>\n",
       "      <td>-0.145640</td>\n",
       "      <td>-0.081049</td>\n",
       "      <td>0.521875</td>\n",
       "      <td>0.739467</td>\n",
       "      <td>0.389152</td>\n",
       "      <td>0.186637</td>\n",
       "      <td>1</td>\n",
       "    </tr>\n",
       "    <tr>\n",
       "      <th>981</th>\n",
       "      <td>0.780941</td>\n",
       "      <td>0.994596</td>\n",
       "      <td>-0.676143</td>\n",
       "      <td>1.126366</td>\n",
       "      <td>-2.213700</td>\n",
       "      <td>0.468308</td>\n",
       "      <td>-1.120541</td>\n",
       "      <td>-0.003346</td>\n",
       "      <td>-2.234739</td>\n",
       "      <td>1.210158</td>\n",
       "      <td>...</td>\n",
       "      <td>0.247968</td>\n",
       "      <td>0.751826</td>\n",
       "      <td>0.834108</td>\n",
       "      <td>0.190944</td>\n",
       "      <td>0.032070</td>\n",
       "      <td>-0.739695</td>\n",
       "      <td>0.471111</td>\n",
       "      <td>0.385107</td>\n",
       "      <td>0.194361</td>\n",
       "      <td>1</td>\n",
       "    </tr>\n",
       "    <tr>\n",
       "      <th>982</th>\n",
       "      <td>3.115939</td>\n",
       "      <td>1.001821</td>\n",
       "      <td>-3.113832</td>\n",
       "      <td>0.585864</td>\n",
       "      <td>-5.399730</td>\n",
       "      <td>1.817092</td>\n",
       "      <td>-0.840618</td>\n",
       "      <td>-2.943548</td>\n",
       "      <td>-2.208002</td>\n",
       "      <td>1.058733</td>\n",
       "      <td>...</td>\n",
       "      <td>0.306271</td>\n",
       "      <td>0.583276</td>\n",
       "      <td>-0.269209</td>\n",
       "      <td>-0.456108</td>\n",
       "      <td>-0.183659</td>\n",
       "      <td>-0.328168</td>\n",
       "      <td>0.606116</td>\n",
       "      <td>0.884876</td>\n",
       "      <td>-0.253700</td>\n",
       "      <td>1</td>\n",
       "    </tr>\n",
       "    <tr>\n",
       "      <th>983</th>\n",
       "      <td>0.286862</td>\n",
       "      <td>1.006309</td>\n",
       "      <td>1.991976</td>\n",
       "      <td>0.158476</td>\n",
       "      <td>-2.583441</td>\n",
       "      <td>0.408670</td>\n",
       "      <td>1.151147</td>\n",
       "      <td>-0.096695</td>\n",
       "      <td>0.223050</td>\n",
       "      <td>-0.068384</td>\n",
       "      <td>...</td>\n",
       "      <td>-0.017652</td>\n",
       "      <td>-0.164350</td>\n",
       "      <td>-0.295135</td>\n",
       "      <td>-0.072173</td>\n",
       "      <td>-0.450261</td>\n",
       "      <td>0.313267</td>\n",
       "      <td>-0.289617</td>\n",
       "      <td>0.002988</td>\n",
       "      <td>-0.015309</td>\n",
       "      <td>1</td>\n",
       "    </tr>\n",
       "  </tbody>\n",
       "</table>\n",
       "<p>984 rows × 31 columns</p>\n",
       "</div>"
      ],
      "text/plain": [
       "     scaled_amount  scaled_time        V1        V2        V3        V4  \\\n",
       "0         0.693751     0.716728  1.974725  0.029901 -2.051231  0.421964   \n",
       "1        -0.251371    -0.857013 -0.505372  1.279945  0.807395  0.486464   \n",
       "2         0.015370    -0.870441  1.231712 -0.089101  0.655684  0.406777   \n",
       "3         1.311769     0.018016  1.072747 -0.285097 -1.247048  0.025080   \n",
       "4        -0.271212     0.694794 -0.098760  0.417296  0.961061 -0.663476   \n",
       "..             ...          ...       ...       ...       ...       ...   \n",
       "979       5.141999     0.992140 -1.927883  1.125653 -4.518331  1.749293   \n",
       "980      -0.296783     0.994549  1.378559  1.289381 -5.004247  1.411850   \n",
       "981       0.780941     0.994596 -0.676143  1.126366 -2.213700  0.468308   \n",
       "982       3.115939     1.001821 -3.113832  0.585864 -5.399730  1.817092   \n",
       "983       0.286862     1.006309  1.991976  0.158476 -2.583441  0.408670   \n",
       "\n",
       "           V5        V6        V7        V8  ...       V20       V21  \\\n",
       "0    0.487407 -1.089438  0.398110 -0.409847  ... -0.000104  0.199566   \n",
       "1   -0.239971 -0.950016  0.359865 -0.255986  ...  0.068281 -0.092533   \n",
       "2   -0.696112 -0.701142 -0.252769 -0.229943  ... -0.081947 -0.252820   \n",
       "3    2.040874  3.407150 -0.322519  0.782215  ...  0.213113 -0.039386   \n",
       "4    0.187826  0.151540 -0.014324  0.005897  ...  0.201473  0.094410   \n",
       "..        ...       ...       ...       ...  ...       ...       ...   \n",
       "979 -1.566487 -2.010494 -0.882850  0.697211  ...  1.252967  0.778584   \n",
       "980  0.442581 -1.326536 -1.413170  0.248525  ...  0.226138  0.370612   \n",
       "981 -1.120541 -0.003346 -2.234739  1.210158  ...  0.247968  0.751826   \n",
       "982 -0.840618 -2.943548 -2.208002  1.058733  ...  0.306271  0.583276   \n",
       "983  1.151147 -0.096695  0.223050 -0.068384  ... -0.017652 -0.164350   \n",
       "\n",
       "          V22       V23       V24       V25       V26       V27       V28  \\\n",
       "0    0.635917 -0.174414 -0.695667  0.344301 -0.070238 -0.011543 -0.024736   \n",
       "1   -0.042785 -0.083584  0.432027 -0.412412  1.123740 -0.732085 -0.244393   \n",
       "2   -0.260043 -0.064598  0.445576  0.421992  1.070156 -0.095377 -0.002946   \n",
       "3   -0.490331 -0.153819  0.991068  0.661190 -0.435313  0.003800  0.038316   \n",
       "4    0.878668  0.083660  0.291908 -1.643540  0.250842  0.321098  0.003652   \n",
       "..        ...       ...       ...       ...       ...       ...       ...   \n",
       "979 -0.319189  0.639419 -0.294885  0.537503  0.788395  0.292680  0.147968   \n",
       "980  0.028234 -0.145640 -0.081049  0.521875  0.739467  0.389152  0.186637   \n",
       "981  0.834108  0.190944  0.032070 -0.739695  0.471111  0.385107  0.194361   \n",
       "982 -0.269209 -0.456108 -0.183659 -0.328168  0.606116  0.884876 -0.253700   \n",
       "983 -0.295135 -0.072173 -0.450261  0.313267 -0.289617  0.002988 -0.015309   \n",
       "\n",
       "     Class  \n",
       "0        0  \n",
       "1        0  \n",
       "2        0  \n",
       "3        0  \n",
       "4        0  \n",
       "..     ...  \n",
       "979      1  \n",
       "980      1  \n",
       "981      1  \n",
       "982      1  \n",
       "983      1  \n",
       "\n",
       "[984 rows x 31 columns]"
      ]
     },
     "execution_count": 17,
     "metadata": {},
     "output_type": "execute_result"
    }
   ],
   "source": [
    "# define undersample strategy\n",
    "undersample = RandomUnderSampler(sampling_strategy='majority',random_state=4)\n",
    "# fit and apply the transform\n",
    "X_RF, Y_RF = undersample.fit_resample(X_train_origin, Y_train_origin)\n",
    "print(Y_RF.count())\n",
    "rus_df = pd.concat([X_RF, Y_RF],axis=1, sort=False)\n",
    "rus_df"
   ]
  },
  {
   "cell_type": "markdown",
   "metadata": {},
   "source": [
    "## Feature selection"
   ]
  },
  {
   "cell_type": "code",
   "execution_count": 18,
   "metadata": {
    "scrolled": false
   },
   "outputs": [
    {
     "data": {
      "image/png": "[encoded data removed]",
      "text/plain": [
       "<Figure size 720x504 with 1 Axes>"
      ]
     },
     "metadata": {
      "needs_background": "light"
     },
     "output_type": "display_data"
    }
   ],
   "source": [
    "#use the randomForestSelector function to select the best features\n",
    "randomForestFeatures = randomForestSelectorRanges(X_RF, Y_RF, 3,29)"
   ]
  },
  {
   "cell_type": "code",
   "execution_count": 19,
   "metadata": {},
   "outputs": [
    {
     "data": {
      "image/png": "[encoded data removed]",
      "text/plain": [
       "<Figure size 1440x720 with 1 Axes>"
      ]
     },
     "metadata": {
      "needs_background": "light"
     },
     "output_type": "display_data"
    },
    {
     "data": {
      "text/html": [
       "<div>\n",
       "<style scoped>\n",
       "    .dataframe tbody tr th:only-of-type {\n",
       "        vertical-align: middle;\n",
       "    }\n",
       "\n",
       "    .dataframe tbody tr th {\n",
       "        vertical-align: top;\n",
       "    }\n",
       "\n",
       "    .dataframe thead th {\n",
       "        text-align: right;\n",
       "    }\n",
       "</style>\n",
       "<table border=\"1\" class=\"dataframe\">\n",
       "  <thead>\n",
       "    <tr style=\"text-align: right;\">\n",
       "      <th></th>\n",
       "      <th>V7</th>\n",
       "      <th>V3</th>\n",
       "      <th>V11</th>\n",
       "      <th>V4</th>\n",
       "      <th>V12</th>\n",
       "      <th>V17</th>\n",
       "      <th>V10</th>\n",
       "      <th>V14</th>\n",
       "    </tr>\n",
       "  </thead>\n",
       "  <tbody>\n",
       "    <tr>\n",
       "      <th>0</th>\n",
       "      <td>0.398110</td>\n",
       "      <td>-2.051231</td>\n",
       "      <td>-0.846258</td>\n",
       "      <td>0.421964</td>\n",
       "      <td>0.213204</td>\n",
       "      <td>0.107143</td>\n",
       "      <td>-0.523239</td>\n",
       "      <td>-0.894861</td>\n",
       "    </tr>\n",
       "    <tr>\n",
       "      <th>1</th>\n",
       "      <td>0.359865</td>\n",
       "      <td>0.807395</td>\n",
       "      <td>0.731136</td>\n",
       "      <td>0.486464</td>\n",
       "      <td>-2.454813</td>\n",
       "      <td>1.181220</td>\n",
       "      <td>-0.167139</td>\n",
       "      <td>1.755408</td>\n",
       "    </tr>\n",
       "    <tr>\n",
       "      <th>2</th>\n",
       "      <td>-0.252769</td>\n",
       "      <td>0.655684</td>\n",
       "      <td>0.285983</td>\n",
       "      <td>0.406777</td>\n",
       "      <td>-1.902472</td>\n",
       "      <td>0.910143</td>\n",
       "      <td>-0.746753</td>\n",
       "      <td>1.161687</td>\n",
       "    </tr>\n",
       "    <tr>\n",
       "      <th>3</th>\n",
       "      <td>-0.322519</td>\n",
       "      <td>-1.247048</td>\n",
       "      <td>-0.135573</td>\n",
       "      <td>0.025080</td>\n",
       "      <td>0.062923</td>\n",
       "      <td>-0.973195</td>\n",
       "      <td>0.004702</td>\n",
       "      <td>0.493438</td>\n",
       "    </tr>\n",
       "    <tr>\n",
       "      <th>4</th>\n",
       "      <td>-0.014324</td>\n",
       "      <td>0.961061</td>\n",
       "      <td>-1.191515</td>\n",
       "      <td>-0.663476</td>\n",
       "      <td>-1.435937</td>\n",
       "      <td>-0.099095</td>\n",
       "      <td>-0.177693</td>\n",
       "      <td>-2.040388</td>\n",
       "    </tr>\n",
       "    <tr>\n",
       "      <th>...</th>\n",
       "      <td>...</td>\n",
       "      <td>...</td>\n",
       "      <td>...</td>\n",
       "      <td>...</td>\n",
       "      <td>...</td>\n",
       "      <td>...</td>\n",
       "      <td>...</td>\n",
       "      <td>...</td>\n",
       "    </tr>\n",
       "    <tr>\n",
       "      <th>979</th>\n",
       "      <td>-0.882850</td>\n",
       "      <td>-4.518331</td>\n",
       "      <td>2.115795</td>\n",
       "      <td>1.749293</td>\n",
       "      <td>-5.417424</td>\n",
       "      <td>-4.570529</td>\n",
       "      <td>-5.587794</td>\n",
       "      <td>-6.665177</td>\n",
       "    </tr>\n",
       "    <tr>\n",
       "      <th>980</th>\n",
       "      <td>-1.413170</td>\n",
       "      <td>-5.004247</td>\n",
       "      <td>2.858466</td>\n",
       "      <td>1.411850</td>\n",
       "      <td>-3.096915</td>\n",
       "      <td>-3.267116</td>\n",
       "      <td>-3.232153</td>\n",
       "      <td>-5.210141</td>\n",
       "    </tr>\n",
       "    <tr>\n",
       "      <th>981</th>\n",
       "      <td>-2.234739</td>\n",
       "      <td>-2.213700</td>\n",
       "      <td>1.794969</td>\n",
       "      <td>0.468308</td>\n",
       "      <td>-2.775022</td>\n",
       "      <td>-5.035326</td>\n",
       "      <td>-3.463891</td>\n",
       "      <td>-4.057162</td>\n",
       "    </tr>\n",
       "    <tr>\n",
       "      <th>982</th>\n",
       "      <td>-2.208002</td>\n",
       "      <td>-5.399730</td>\n",
       "      <td>1.933520</td>\n",
       "      <td>1.817092</td>\n",
       "      <td>-5.030465</td>\n",
       "      <td>-4.614717</td>\n",
       "      <td>-5.245984</td>\n",
       "      <td>-6.416628</td>\n",
       "    </tr>\n",
       "    <tr>\n",
       "      <th>983</th>\n",
       "      <td>0.223050</td>\n",
       "      <td>-2.583441</td>\n",
       "      <td>0.491140</td>\n",
       "      <td>0.408670</td>\n",
       "      <td>0.728903</td>\n",
       "      <td>0.903562</td>\n",
       "      <td>-0.888722</td>\n",
       "      <td>-1.948883</td>\n",
       "    </tr>\n",
       "  </tbody>\n",
       "</table>\n",
       "<p>984 rows × 8 columns</p>\n",
       "</div>"
      ],
      "text/plain": [
       "           V7        V3       V11        V4       V12       V17       V10  \\\n",
       "0    0.398110 -2.051231 -0.846258  0.421964  0.213204  0.107143 -0.523239   \n",
       "1    0.359865  0.807395  0.731136  0.486464 -2.454813  1.181220 -0.167139   \n",
       "2   -0.252769  0.655684  0.285983  0.406777 -1.902472  0.910143 -0.746753   \n",
       "3   -0.322519 -1.247048 -0.135573  0.025080  0.062923 -0.973195  0.004702   \n",
       "4   -0.014324  0.961061 -1.191515 -0.663476 -1.435937 -0.099095 -0.177693   \n",
       "..        ...       ...       ...       ...       ...       ...       ...   \n",
       "979 -0.882850 -4.518331  2.115795  1.749293 -5.417424 -4.570529 -5.587794   \n",
       "980 -1.413170 -5.004247  2.858466  1.411850 -3.096915 -3.267116 -3.232153   \n",
       "981 -2.234739 -2.213700  1.794969  0.468308 -2.775022 -5.035326 -3.463891   \n",
       "982 -2.208002 -5.399730  1.933520  1.817092 -5.030465 -4.614717 -5.245984   \n",
       "983  0.223050 -2.583441  0.491140  0.408670  0.728903  0.903562 -0.888722   \n",
       "\n",
       "          V14  \n",
       "0   -0.894861  \n",
       "1    1.755408  \n",
       "2    1.161687  \n",
       "3    0.493438  \n",
       "4   -2.040388  \n",
       "..        ...  \n",
       "979 -6.665177  \n",
       "980 -5.210141  \n",
       "981 -4.057162  \n",
       "982 -6.416628  \n",
       "983 -1.948883  \n",
       "\n",
       "[984 rows x 8 columns]"
      ]
     },
     "execution_count": 19,
     "metadata": {},
     "output_type": "execute_result"
    }
   ],
   "source": [
    "randomForestFeatures = randomForestSelector(X_RF, Y_RF, 8)\n",
    "data_featured = X_RF.loc[:, randomForestFeatures]\n",
    "data_featured"
   ]
  },
  {
   "cell_type": "code",
   "execution_count": 20,
   "metadata": {},
   "outputs": [],
   "source": [
    "models = [\n",
    "          {\n",
    "            \"Model\":LogisticRegression(random_state=0),\n",
    "            \"params\" : {\"C\":[0.001,0.01,0.1,1,10,100], \"penalty\":[\"l1\",\"l2\"]}\n",
    "          },\n",
    "          {\n",
    "            \"Model\":xgb.XGBClassifier(objective= 'binary:logistic',nthread=4,random_state=0),\n",
    "            \"params\" : {'max_depth': range (2, 10, 1),'n_estimators': range(60, 220, 40), \n",
    "                        'learning_rate': [0.1, 0.01, 0.05]}\n",
    "          },\n",
    "          {\n",
    "            \"Model\":RandomForestClassifier(random_state=0),\n",
    "            \"params\" : {'bootstrap': [True, False], 'max_depth': [10, 20, 30, 40], \n",
    "                         'min_samples_split': [2, 5, 10], 'n_estimators': [100, 200, 500]}        \n",
    "          }\n",
    "              ]"
   ]
  },
  {
   "cell_type": "markdown",
   "metadata": {},
   "source": [
    "#  score without feauture selection, only RUS"
   ]
  },
  {
   "cell_type": "markdown",
   "metadata": {},
   "source": [
    "We train our model on data_featured as X_test and Y_RF as our y_test and we will test it with our test data x_test_origin and y_test_origin"
   ]
  },
  {
   "cell_type": "code",
   "execution_count": 21,
   "metadata": {},
   "outputs": [
    {
     "data": {
      "text/plain": [
       "Counter({0: 492, 1: 492})"
      ]
     },
     "execution_count": 21,
     "metadata": {},
     "output_type": "execute_result"
    }
   ],
   "source": [
    "Counter(Y_RF)"
   ]
  },
  {
   "cell_type": "code",
   "execution_count": 22,
   "metadata": {},
   "outputs": [
    {
     "name": "stdout",
     "output_type": "stream",
     "text": [
      "Fitting 5 folds for each of 12 candidates, totalling 60 fits\n"
     ]
    },
    {
     "name": "stderr",
     "output_type": "stream",
     "text": [
      "[Parallel(n_jobs=-1)]: Using backend LokyBackend with 4 concurrent workers.\n",
      "[Parallel(n_jobs=-1)]: Done  49 tasks      | elapsed:    4.4s\n",
      "[Parallel(n_jobs=-1)]: Done  53 out of  60 | elapsed:    4.5s remaining:    0.5s\n",
      "[Parallel(n_jobs=-1)]: Done  60 out of  60 | elapsed:    4.6s finished\n",
      "[Parallel(n_jobs=-1)]: Using backend LokyBackend with 4 concurrent workers.\n"
     ]
    },
    {
     "name": "stdout",
     "output_type": "stream",
     "text": [
      "Fitting 5 folds for each of 96 candidates, totalling 480 fits\n"
     ]
    },
    {
     "name": "stderr",
     "output_type": "stream",
     "text": [
      "[Parallel(n_jobs=-1)]: Done  42 tasks      | elapsed:   15.4s\n",
      "[Parallel(n_jobs=-1)]: Done 192 tasks      | elapsed:   58.7s\n",
      "[Parallel(n_jobs=-1)]: Done 442 tasks      | elapsed:  2.5min\n",
      "[Parallel(n_jobs=-1)]: Done 480 out of 480 | elapsed:  2.8min finished\n"
     ]
    },
    {
     "name": "stdout",
     "output_type": "stream",
     "text": [
      "Fitting 5 folds for each of 72 candidates, totalling 360 fits\n"
     ]
    },
    {
     "name": "stderr",
     "output_type": "stream",
     "text": [
      "[Parallel(n_jobs=-1)]: Using backend LokyBackend with 4 concurrent workers.\n",
      "[Parallel(n_jobs=-1)]: Done  42 tasks      | elapsed:   21.4s\n",
      "[Parallel(n_jobs=-1)]: Done 192 tasks      | elapsed:  1.7min\n",
      "[Parallel(n_jobs=-1)]: Done 360 out of 360 | elapsed:  3.6min finished\n"
     ]
    }
   ],
   "source": [
    "grid_models =gridSearch(X_RF,Y_RF, models)"
   ]
  },
  {
   "cell_type": "code",
   "execution_count": 23,
   "metadata": {
    "scrolled": false
   },
   "outputs": [
    {
     "name": "stdout",
     "output_type": "stream",
     "text": [
      "Model name :  LogisticRegression(random_state=0)\n",
      "Best Parameters {'C': 100, 'penalty': 'l2'}\n",
      "AUC-score : [0.9969152303904327]\n",
      "Precision-Recall-auc:  [0.9696270833932917]\n",
      "Balanced accuracy score [0.9748751319029194]\n",
      "Recall : [0.98]\n",
      "Precision : [0.532608695652174]\n",
      "F1_score [0.6901408450704226]\n",
      "              precision    recall  f1-score   support\n",
      "\n",
      "           0       1.00      0.97      0.98      2843\n",
      "           1       0.53      0.98      0.69       100\n",
      "\n",
      "    accuracy                           0.97      2943\n",
      "   macro avg       0.77      0.97      0.84      2943\n",
      "weighted avg       0.98      0.97      0.97      2943\n",
      "\n",
      "[[2757   86]\n",
      " [   2   98]]\n",
      "\n",
      "\n",
      "roc_curve:\n"
     ]
    },
    {
     "data": {
      "image/png": "[encoded data removed]",
      "text/plain": [
       "<Figure size 432x288 with 1 Axes>"
      ]
     },
     "metadata": {
      "needs_background": "light"
     },
     "output_type": "display_data"
    },
    {
     "name": "stdout",
     "output_type": "stream",
     "text": [
      "\n",
      "\n",
      "prauc_curve:\n"
     ]
    },
    {
     "data": {
      "image/png": "[encoded data removed]",
      "text/plain": [
       "<Figure size 432x288 with 1 Axes>"
      ]
     },
     "metadata": {
      "needs_background": "light"
     },
     "output_type": "display_data"
    },
    {
     "name": "stdout",
     "output_type": "stream",
     "text": [
      "********\n",
      "Model name :  XGBClassifier(nthread=4)\n",
      "Best Parameters {'learning_rate': 0.1, 'max_depth': 9, 'n_estimators': 140}\n",
      "AUC-score : [0.9995005276116777]\n",
      "Precision-Recall-auc:  [0.9884948170919773]\n",
      "Balanced accuracy score [0.9841716496658459]\n",
      "Recall : [1.0]\n",
      "Precision : [0.5263157894736842]\n",
      "F1_score [0.6896551724137931]\n",
      "              precision    recall  f1-score   support\n",
      "\n",
      "           0       1.00      0.97      0.98      2843\n",
      "           1       0.53      1.00      0.69       100\n",
      "\n",
      "    accuracy                           0.97      2943\n",
      "   macro avg       0.76      0.98      0.84      2943\n",
      "weighted avg       0.98      0.97      0.97      2943\n",
      "\n",
      "[[2753   90]\n",
      " [   0  100]]\n",
      "\n",
      "\n",
      "roc_curve:\n"
     ]
    },
    {
     "data": {
      "image/png": "[encoded data removed]",
      "text/plain": [
       "<Figure size 432x288 with 1 Axes>"
      ]
     },
     "metadata": {
      "needs_background": "light"
     },
     "output_type": "display_data"
    },
    {
     "name": "stdout",
     "output_type": "stream",
     "text": [
      "\n",
      "\n",
      "prauc_curve:\n"
     ]
    },
    {
     "data": {
      "image/png": "[encoded data removed]",
      "text/plain": [
       "<Figure size 432x288 with 1 Axes>"
      ]
     },
     "metadata": {
      "needs_background": "light"
     },
     "output_type": "display_data"
    },
    {
     "name": "stdout",
     "output_type": "stream",
     "text": [
      "********\n",
      "Model name :  RandomForestClassifier(random_state=0)\n",
      "Best Parameters {'bootstrap': False, 'max_depth': 20, 'min_samples_split': 2, 'n_estimators': 200}\n",
      "AUC-score : [0.9999771368272952]\n",
      "Precision-Recall-auc:  [0.999389245014245]\n",
      "Balanced accuracy score [0.9855786141399929]\n",
      "Recall : [1.0]\n",
      "Precision : [0.5494505494505495]\n",
      "F1_score [0.7092198581560284]\n",
      "              precision    recall  f1-score   support\n",
      "\n",
      "           0       1.00      0.97      0.99      2843\n",
      "           1       0.55      1.00      0.71       100\n",
      "\n",
      "    accuracy                           0.97      2943\n",
      "   macro avg       0.77      0.99      0.85      2943\n",
      "weighted avg       0.98      0.97      0.98      2943\n",
      "\n",
      "[[2761   82]\n",
      " [   0  100]]\n",
      "\n",
      "\n",
      "roc_curve:\n"
     ]
    },
    {
     "data": {
      "image/png": "[encoded data removed]",
      "text/plain": [
       "<Figure size 432x288 with 1 Axes>"
      ]
     },
     "metadata": {
      "needs_background": "light"
     },
     "output_type": "display_data"
    },
    {
     "name": "stdout",
     "output_type": "stream",
     "text": [
      "\n",
      "\n",
      "prauc_curve:\n"
     ]
    },
    {
     "data": {
      "image/png": "[encoded data removed]",
      "text/plain": [
       "<Figure size 432x288 with 1 Axes>"
      ]
     },
     "metadata": {
      "needs_background": "light"
     },
     "output_type": "display_data"
    },
    {
     "name": "stdout",
     "output_type": "stream",
     "text": [
      "********\n",
      "GridSearchCV(cv=5, estimator=XGBClassifier(nthread=4), n_jobs=-1,\n",
      "             param_grid={'learning_rate': [0.1, 0.01, 0.05],\n",
      "                         'max_depth': range(2, 10),\n",
      "                         'n_estimators': range(60, 220, 40)},\n",
      "             scoring='recall', verbose=1)\n"
     ]
    }
   ],
   "source": [
    "for i in range(len(models)):\n",
    "  print(\"Model name : \", models[i][\"Model\"])\n",
    "  fit_score(grid_models[i], x_test_origin,y_test_origin)\n",
    "  print(\"********\")\n",
    "print(grid_models[1])"
   ]
  },
  {
   "cell_type": "markdown",
   "metadata": {},
   "source": [
    "# We apply unsupervised model for outliers detection"
   ]
  },
  {
   "cell_type": "markdown",
   "metadata": {},
   "source": [
    "## We choose 1% of data for computational reasons"
   ]
  },
  {
   "cell_type": "code",
   "execution_count": 24,
   "metadata": {},
   "outputs": [
    {
     "data": {
      "text/plain": [
       "(28481, 31)"
      ]
     },
     "execution_count": 24,
     "metadata": {},
     "output_type": "execute_result"
    }
   ],
   "source": [
    "data_frac = data_train.sample(frac =.1)\n",
    "data_frac.shape"
   ]
  },
  {
   "cell_type": "code",
   "execution_count": 25,
   "metadata": {},
   "outputs": [
    {
     "name": "stdout",
     "output_type": "stream",
     "text": [
      "(28481, 30)\n",
      "(28481,)\n"
     ]
    }
   ],
   "source": [
    "columns = data_frac.columns.tolist()\n",
    "# Filter the columns to remove data we do not want \n",
    "columns = [c for c in columns if c not in [\"Class\"]]\n",
    "# Store the variable we are predicting \n",
    "target = \"Class\"\n",
    "# Define a random state \n",
    "state = np.random.RandomState(42)\n",
    "X_outliers = data_frac[columns]\n",
    "Y_outliers = data_frac[target]\n",
    "X_outliers = state.uniform(low=0, high=1, size=(X_outliers.shape[0], X_outliers.shape[1]))\n",
    "# Print the shapes of X & Y\n",
    "print(X_outliers.shape)\n",
    "print(Y_outliers.shape)"
   ]
  },
  {
   "cell_type": "markdown",
   "metadata": {},
   "source": [
    "### we compute the outlier fraction for the contamination hyperparam"
   ]
  },
  {
   "cell_type": "code",
   "execution_count": 26,
   "metadata": {},
   "outputs": [
    {
     "name": "stdout",
     "output_type": "stream",
     "text": [
      "number of fraud in 1% of dataset : (53, 31)\n",
      "number of valid in 1% of dataset : (28428, 31)\n",
      "outlier_fraction: 0.1864359082594625 % of the dataset\n"
     ]
    }
   ],
   "source": [
    "Fraud = data_frac[data_frac['Class']==1]\n",
    "\n",
    "Valid = data_frac[data_frac['Class']==0]\n",
    "\n",
    "outlier_fraction = (len(Fraud)/float(len(Valid)))*100\n",
    "print('number of fraud in 1% of dataset :', Fraud.shape)\n",
    "print('number of valid in 1% of dataset :', Valid.shape)\n",
    "print('outlier_fraction:' , outlier_fraction,'% of the dataset')"
   ]
  },
  {
   "cell_type": "markdown",
   "metadata": {},
   "source": [
    " ### We choose Isolation Forest  and Support Vector Machine"
   ]
  },
  {
   "cell_type": "code",
   "execution_count": 27,
   "metadata": {},
   "outputs": [],
   "source": [
    "##Define the outlier detection methods\n",
    "\n",
    "classifiers = {\n",
    "    \"Isolation Forest\":IsolationForest(n_estimators=100, \n",
    "                                       contamination=0.1,random_state=0, verbose=0),\n",
    "    \"Support Vector Machine\":OneClassSVM(kernel='rbf', degree=3, gamma=0.1,nu=0.01, \n",
    "                                         max_iter=-1)\n",
    "   \n",
    "}"
   ]
  },
  {
   "cell_type": "code",
   "execution_count": 28,
   "metadata": {},
   "outputs": [],
   "source": [
    "train_valid,test_valid = train_test_split(Valid.drop(['Class'],axis=1) , test_size=0.3, random_state=0)\n",
    "\n",
    "outliers=Fraud.drop(['Class'],axis=1)"
   ]
  },
  {
   "cell_type": "code",
   "execution_count": 29,
   "metadata": {},
   "outputs": [
    {
     "name": "stdout",
     "output_type": "stream",
     "text": [
      "******\n",
      "Isolation Forest\n",
      "Accuracy in Detecting Legit Cases: 0.8983468167428772\n",
      "Accuracy in Detecting Fraud Cases: 0.8867924528301887\n",
      "******\n",
      "Support Vector Machine\n",
      "Accuracy in Detecting Legit Cases: 0.8664556219955446\n",
      "Accuracy in Detecting Fraud Cases: 0.9245283018867925\n"
     ]
    }
   ],
   "source": [
    "n_outliers = len(Fraud)\n",
    "for i, (clf_name,clf) in enumerate(classifiers.items()):\n",
    "    #Fit the data and tag outliers\n",
    "    if clf_name == \"Isolation Forest\":\n",
    "        clf.fit(train_valid)\n",
    "        y_pred_outliers= clf.predict(outliers)\n",
    "        y_pred_valid= clf.predict(test_valid)\n",
    "    else:\n",
    "        clf.fit(train_valid)\n",
    "        y_pred_outliers= clf.predict(outliers)\n",
    "        y_pred_valid= clf.predict(test_valid)\n",
    "    # Run Classification Metrics\n",
    "    print('******')\n",
    "    print(clf_name)\n",
    "    print(\"Accuracy in Detecting Legit Cases:\", list(y_pred_valid).count(1)/y_pred_valid.shape[0])\n",
    "    print(\"Accuracy in Detecting Fraud Cases:\", list(y_pred_outliers).count(-1)/y_pred_outliers.shape[0])"
   ]
  },
  {
   "cell_type": "markdown",
   "metadata": {},
   "source": [
    "# Score with feature selection and RUS"
   ]
  },
  {
   "cell_type": "code",
   "execution_count": 30,
   "metadata": {},
   "outputs": [],
   "source": [
    "x_train_fs, x_test_fs, y_train_fs, y_test_fs = train_test_split(data_featured, Y_RF, test_size=0.3, stratify=Y_RF, random_state=0)"
   ]
  },
  {
   "cell_type": "code",
   "execution_count": 31,
   "metadata": {},
   "outputs": [
    {
     "name": "stdout",
     "output_type": "stream",
     "text": [
      "Fitting 5 folds for each of 12 candidates, totalling 60 fits\n"
     ]
    },
    {
     "name": "stderr",
     "output_type": "stream",
     "text": [
      "[Parallel(n_jobs=-1)]: Using backend LokyBackend with 4 concurrent workers.\n",
      "[Parallel(n_jobs=-1)]: Done  60 out of  60 | elapsed:    0.3s finished\n",
      "[Parallel(n_jobs=-1)]: Using backend LokyBackend with 4 concurrent workers.\n"
     ]
    },
    {
     "name": "stdout",
     "output_type": "stream",
     "text": [
      "Fitting 5 folds for each of 96 candidates, totalling 480 fits\n"
     ]
    },
    {
     "name": "stderr",
     "output_type": "stream",
     "text": [
      "[Parallel(n_jobs=-1)]: Done  42 tasks      | elapsed:    4.3s\n",
      "[Parallel(n_jobs=-1)]: Done 192 tasks      | elapsed:   28.8s\n",
      "[Parallel(n_jobs=-1)]: Done 442 tasks      | elapsed:  1.4min\n",
      "[Parallel(n_jobs=-1)]: Done 480 out of 480 | elapsed:  1.5min finished\n"
     ]
    },
    {
     "name": "stdout",
     "output_type": "stream",
     "text": [
      "Fitting 5 folds for each of 72 candidates, totalling 360 fits\n"
     ]
    },
    {
     "name": "stderr",
     "output_type": "stream",
     "text": [
      "[Parallel(n_jobs=-1)]: Using backend LokyBackend with 4 concurrent workers.\n",
      "[Parallel(n_jobs=-1)]: Done  42 tasks      | elapsed:   15.1s\n",
      "[Parallel(n_jobs=-1)]: Done 192 tasks      | elapsed:  1.1min\n",
      "[Parallel(n_jobs=-1)]: Done 360 out of 360 | elapsed:  1.9min finished\n"
     ]
    }
   ],
   "source": [
    "grid_models =gridSearch(x_train_fs,y_train_fs, models)"
   ]
  },
  {
   "cell_type": "code",
   "execution_count": 32,
   "metadata": {
    "scrolled": false
   },
   "outputs": [
    {
     "name": "stdout",
     "output_type": "stream",
     "text": [
      "Model name :  LogisticRegression(random_state=0)\n",
      "Best Parameters {'C': 1, 'penalty': 'l2'}\n",
      "AUC-score : [0.9968870911009498]\n",
      "Precision-Recall-auc:  [0.9642254749957953]\n",
      "Balanced accuracy score [0.9639957791065775]\n",
      "Recall : [0.96]\n",
      "Precision : [0.5133689839572193]\n",
      "F1_score [0.6689895470383276]\n",
      "              precision    recall  f1-score   support\n",
      "\n",
      "           0       1.00      0.97      0.98      2843\n",
      "           1       0.51      0.96      0.67       100\n",
      "\n",
      "    accuracy                           0.97      2943\n",
      "   macro avg       0.76      0.96      0.83      2943\n",
      "weighted avg       0.98      0.97      0.97      2943\n",
      "\n",
      "[[2752   91]\n",
      " [   4   96]]\n",
      "\n",
      "\n",
      "roc_curve:\n"
     ]
    },
    {
     "data": {
      "image/png": "[encoded data removed]",
      "text/plain": [
       "<Figure size 432x288 with 1 Axes>"
      ]
     },
     "metadata": {
      "needs_background": "light"
     },
     "output_type": "display_data"
    },
    {
     "name": "stdout",
     "output_type": "stream",
     "text": [
      "\n",
      "\n",
      "prauc_curve:\n"
     ]
    },
    {
     "data": {
      "image/png": "[encoded data removed]",
      "text/plain": [
       "<Figure size 432x288 with 1 Axes>"
      ]
     },
     "metadata": {
      "needs_background": "light"
     },
     "output_type": "display_data"
    },
    {
     "name": "stdout",
     "output_type": "stream",
     "text": [
      "\n",
      "Model name :  XGBClassifier(nthread=4)\n",
      "Best Parameters {'learning_rate': 0.01, 'max_depth': 6, 'n_estimators': 60}\n",
      "AUC-score : [0.995]\n",
      "Precision-Recall-auc:  [0.9116189186774026]\n",
      "Balanced accuracy score [0.9683679212099894]\n",
      "Recall : [0.98]\n",
      "Precision : [0.4434389140271493]\n",
      "F1_score [0.6105919003115264]\n",
      "              precision    recall  f1-score   support\n",
      "\n",
      "           0       1.00      0.96      0.98      2843\n",
      "           1       0.44      0.98      0.61       100\n",
      "\n",
      "    accuracy                           0.96      2943\n",
      "   macro avg       0.72      0.97      0.79      2943\n",
      "weighted avg       0.98      0.96      0.97      2943\n",
      "\n",
      "[[2720  123]\n",
      " [   2   98]]\n",
      "\n",
      "\n",
      "roc_curve:\n"
     ]
    },
    {
     "data": {
      "image/png": "[encoded data removed]",
      "text/plain": [
       "<Figure size 432x288 with 1 Axes>"
      ]
     },
     "metadata": {
      "needs_background": "light"
     },
     "output_type": "display_data"
    },
    {
     "name": "stdout",
     "output_type": "stream",
     "text": [
      "\n",
      "\n",
      "prauc_curve:\n"
     ]
    },
    {
     "data": {
      "image/png": "[encoded data removed]",
      "text/plain": [
       "<Figure size 432x288 with 1 Axes>"
      ]
     },
     "metadata": {
      "needs_background": "light"
     },
     "output_type": "display_data"
    },
    {
     "name": "stdout",
     "output_type": "stream",
     "text": [
      "\n",
      "Model name :  RandomForestClassifier(random_state=0)\n",
      "Best Parameters {'bootstrap': False, 'max_depth': 20, 'min_samples_split': 2, 'n_estimators': 100}\n",
      "AUC-score : [0.9948047836792122]\n",
      "Precision-Recall-auc:  [0.9825419324967501]\n",
      "Balanced accuracy score [0.9731164263102356]\n",
      "Recall : [0.98]\n",
      "Precision : [0.5051546391752577]\n",
      "F1_score [0.6666666666666666]\n",
      "              precision    recall  f1-score   support\n",
      "\n",
      "           0       1.00      0.97      0.98      2843\n",
      "           1       0.51      0.98      0.67       100\n",
      "\n",
      "    accuracy                           0.97      2943\n",
      "   macro avg       0.75      0.97      0.82      2943\n",
      "weighted avg       0.98      0.97      0.97      2943\n",
      "\n",
      "[[2747   96]\n",
      " [   2   98]]\n",
      "\n",
      "\n",
      "roc_curve:\n"
     ]
    },
    {
     "data": {
      "image/png": "[encoded data removed]",
      "text/plain": [
       "<Figure size 432x288 with 1 Axes>"
      ]
     },
     "metadata": {
      "needs_background": "light"
     },
     "output_type": "display_data"
    },
    {
     "name": "stdout",
     "output_type": "stream",
     "text": [
      "\n",
      "\n",
      "prauc_curve:\n"
     ]
    },
    {
     "data": {
      "image/png": "[encoded data removed]",
      "text/plain": [
       "<Figure size 432x288 with 1 Axes>"
      ]
     },
     "metadata": {
      "needs_background": "light"
     },
     "output_type": "display_data"
    },
    {
     "name": "stdout",
     "output_type": "stream",
     "text": [
      "\n"
     ]
    }
   ],
   "source": [
    "for i in range(len(models)):\n",
    "  print(\"Model name : \", models[i][\"Model\"])\n",
    "  fit_score(grid_models[i], x_test_origin.loc[:, randomForestFeatures],y_test_origin)\n",
    "  print(\"\")"
   ]
  },
  {
   "cell_type": "markdown",
   "metadata": {},
   "source": [
    "## Outliers detectors using feature selection"
   ]
  },
  {
   "cell_type": "code",
   "execution_count": 33,
   "metadata": {},
   "outputs": [],
   "source": [
    "train_valid,test_valid = train_test_split(Valid.drop(['Class'],axis=1).loc[:, randomForestFeatures] , test_size=0.3, random_state=0)\n",
    "\n",
    "outliers=Fraud.drop(['Class'],axis=1).loc[:, randomForestFeatures]"
   ]
  },
  {
   "cell_type": "code",
   "execution_count": 34,
   "metadata": {},
   "outputs": [
    {
     "name": "stdout",
     "output_type": "stream",
     "text": [
      "******\n",
      "Isolation Forest\n",
      "Accuracy in Detecting Legit Cases: 0.8999882752960487\n",
      "Accuracy in Detecting Fraud Cases: 0.9056603773584906\n",
      "******\n",
      "Support Vector Machine\n",
      "Accuracy in Detecting Legit Cases: 0.9805369914409661\n",
      "Accuracy in Detecting Fraud Cases: 0.8490566037735849\n"
     ]
    }
   ],
   "source": [
    "n_outliers = len(Fraud)\n",
    "for i, (clf_name,clf) in enumerate(classifiers.items()):\n",
    "    #Fit the data and tag outliers\n",
    "    if clf_name == \"Isolation Forest\":\n",
    "        clf.fit(train_valid)\n",
    "        y_pred_outliers= clf.predict(outliers)\n",
    "        y_pred_valid= clf.predict(test_valid)\n",
    "    else:\n",
    "        clf.fit(train_valid)\n",
    "        y_pred_outliers= clf.predict(outliers)\n",
    "        y_pred_valid= clf.predict(test_valid)\n",
    "    # Run Classification Metrics\n",
    "    print('******')\n",
    "    print(clf_name)\n",
    "    print(\"Accuracy in Detecting Legit Cases:\", list(y_pred_valid).count(1)/y_pred_valid.shape[0])\n",
    "    print(\"Accuracy in Detecting Fraud Cases:\", list(y_pred_outliers).count(-1)/y_pred_outliers.shape[0])"
   ]
  },
  {
   "cell_type": "markdown",
   "metadata": {},
   "source": [
    " # Use ANN with undersampling and RF feature selection"
   ]
  },
  {
   "cell_type": "code",
   "execution_count": 35,
   "metadata": {},
   "outputs": [],
   "source": [
    "x_train_nn, x_test_nn, y_train_nn, y_test_nn = train_test_split(data_featured, Y_RF, test_size=0.3, stratify=Y_RF, random_state=0)"
   ]
  },
  {
   "cell_type": "code",
   "execution_count": 36,
   "metadata": {},
   "outputs": [
    {
     "data": {
      "text/plain": [
       "8"
      ]
     },
     "execution_count": 36,
     "metadata": {},
     "output_type": "execute_result"
    }
   ],
   "source": [
    "x_train_nn.shape[1]"
   ]
  },
  {
   "cell_type": "code",
   "execution_count": 37,
   "metadata": {},
   "outputs": [],
   "source": [
    "x_test_origin_featureselect =x_test_origin.loc[:, randomForestFeatures]"
   ]
  },
  {
   "cell_type": "markdown",
   "metadata": {},
   "source": [
    "### Keras tuner for NN gridsearch"
   ]
  },
  {
   "cell_type": "code",
   "execution_count": 38,
   "metadata": {},
   "outputs": [],
   "source": [
    "from tensorflow import keras\n",
    "from tensorflow.keras import layers\n",
    "from kerastuner.tuners import RandomSearch"
   ]
  },
  {
   "cell_type": "code",
   "execution_count": 39,
   "metadata": {},
   "outputs": [],
   "source": [
    "def build_model(hp):\n",
    "    model = keras.Sequential()\n",
    "    model.add(layers.Dense(units=hp.Int('units',\n",
    "                                        min_value=32,\n",
    "                                        max_value=512,\n",
    "                                        step=32),\n",
    "                           activation='relu', input_dim=(x_train_nn.shape[1])))\n",
    "    for i in range(hp.Int('n_layers', 1, 8)):\n",
    "        model.add(layers.Dense(hp.Int(f'conv_{i}_units',\n",
    "                                min_value=32,\n",
    "                                max_value=256,\n",
    "                                step=32), activation=\"relu\"))\n",
    "    model.add(layers.Dense(1, activation='sigmoid'))\n",
    "    model.compile(\n",
    "        optimizer=keras.optimizers.Adam(\n",
    "            hp.Choice('learning_rate',\n",
    "                      values=[1e-2, 1e-3, 1e-4])),\n",
    "        loss='binary_crossentropy',\n",
    "        metrics=['accuracy'])\n",
    "    return model"
   ]
  },
  {
   "cell_type": "code",
   "execution_count": 40,
   "metadata": {},
   "outputs": [],
   "source": [
    "import time\n",
    "LOG_DIR = f\"{int(time.time())}\""
   ]
  },
  {
   "cell_type": "code",
   "execution_count": 41,
   "metadata": {},
   "outputs": [],
   "source": [
    "import tensorflow"
   ]
  },
  {
   "cell_type": "code",
   "execution_count": 42,
   "metadata": {},
   "outputs": [
    {
     "name": "stdout",
     "output_type": "stream",
     "text": [
      "INFO:tensorflow:Reloading Oracle from existing project LOG_DIR\\untitled_project\\oracle.json\n",
      "INFO:tensorflow:Reloading Tuner from LOG_DIR\\untitled_project\\tuner0.json\n"
     ]
    }
   ],
   "source": [
    "tuner = RandomSearch(\n",
    "    build_model,\n",
    "    objective='val_accuracy',\n",
    "    max_trials=5,\n",
    "    executions_per_trial=2,\n",
    "    directory='LOG_DIR')"
   ]
  },
  {
   "cell_type": "code",
   "execution_count": 43,
   "metadata": {
    "scrolled": true
   },
   "outputs": [
    {
     "data": {
      "text/html": [
       "<span style=\"color:#4527A0\"><h1 style=\"font-size:18px\">Search space summary</h1></span>"
      ],
      "text/plain": [
       "<IPython.core.display.HTML object>"
      ]
     },
     "metadata": {},
     "output_type": "display_data"
    },
    {
     "data": {
      "text/html": [
       "<span style=\"color:cyan\"> |-Default search space size: 6</span>"
      ],
      "text/plain": [
       "<IPython.core.display.HTML object>"
      ]
     },
     "metadata": {},
     "output_type": "display_data"
    },
    {
     "data": {
      "text/html": [
       "<span style=\"color:#7E57C2\"><h2 style=\"font-size:16px\">units (Int)</h2></span>"
      ],
      "text/plain": [
       "<IPython.core.display.HTML object>"
      ]
     },
     "metadata": {},
     "output_type": "display_data"
    },
    {
     "data": {
      "text/html": [
       "<span style=\"color:cyan\"> |-default: None</span>"
      ],
      "text/plain": [
       "<IPython.core.display.HTML object>"
      ]
     },
     "metadata": {},
     "output_type": "display_data"
    },
    {
     "data": {
      "text/html": [
       "<span style=\"color:blue\"> |-max_value: 512</span>"
      ],
      "text/plain": [
       "<IPython.core.display.HTML object>"
      ]
     },
     "metadata": {},
     "output_type": "display_data"
    },
    {
     "data": {
      "text/html": [
       "<span style=\"color:cyan\"> |-min_value: 32</span>"
      ],
      "text/plain": [
       "<IPython.core.display.HTML object>"
      ]
     },
     "metadata": {},
     "output_type": "display_data"
    },
    {
     "data": {
      "text/html": [
       "<span style=\"color:blue\"> |-sampling: None</span>"
      ],
      "text/plain": [
       "<IPython.core.display.HTML object>"
      ]
     },
     "metadata": {},
     "output_type": "display_data"
    },
    {
     "data": {
      "text/html": [
       "<span style=\"color:cyan\"> |-step: 32</span>"
      ],
      "text/plain": [
       "<IPython.core.display.HTML object>"
      ]
     },
     "metadata": {},
     "output_type": "display_data"
    },
    {
     "data": {
      "text/html": [
       "<span style=\"color:#7E57C2\"><h2 style=\"font-size:16px\">n_layers (Int)</h2></span>"
      ],
      "text/plain": [
       "<IPython.core.display.HTML object>"
      ]
     },
     "metadata": {},
     "output_type": "display_data"
    },
    {
     "data": {
      "text/html": [
       "<span style=\"color:cyan\"> |-default: None</span>"
      ],
      "text/plain": [
       "<IPython.core.display.HTML object>"
      ]
     },
     "metadata": {},
     "output_type": "display_data"
    },
    {
     "data": {
      "text/html": [
       "<span style=\"color:blue\"> |-max_value: 4</span>"
      ],
      "text/plain": [
       "<IPython.core.display.HTML object>"
      ]
     },
     "metadata": {},
     "output_type": "display_data"
    },
    {
     "data": {
      "text/html": [
       "<span style=\"color:cyan\"> |-min_value: 1</span>"
      ],
      "text/plain": [
       "<IPython.core.display.HTML object>"
      ]
     },
     "metadata": {},
     "output_type": "display_data"
    },
    {
     "data": {
      "text/html": [
       "<span style=\"color:blue\"> |-sampling: None</span>"
      ],
      "text/plain": [
       "<IPython.core.display.HTML object>"
      ]
     },
     "metadata": {},
     "output_type": "display_data"
    },
    {
     "data": {
      "text/html": [
       "<span style=\"color:cyan\"> |-step: 1</span>"
      ],
      "text/plain": [
       "<IPython.core.display.HTML object>"
      ]
     },
     "metadata": {},
     "output_type": "display_data"
    },
    {
     "data": {
      "text/html": [
       "<span style=\"color:#7E57C2\"><h2 style=\"font-size:16px\">conv_0_units (Int)</h2></span>"
      ],
      "text/plain": [
       "<IPython.core.display.HTML object>"
      ]
     },
     "metadata": {},
     "output_type": "display_data"
    },
    {
     "data": {
      "text/html": [
       "<span style=\"color:cyan\"> |-default: None</span>"
      ],
      "text/plain": [
       "<IPython.core.display.HTML object>"
      ]
     },
     "metadata": {},
     "output_type": "display_data"
    },
    {
     "data": {
      "text/html": [
       "<span style=\"color:blue\"> |-max_value: 256</span>"
      ],
      "text/plain": [
       "<IPython.core.display.HTML object>"
      ]
     },
     "metadata": {},
     "output_type": "display_data"
    },
    {
     "data": {
      "text/html": [
       "<span style=\"color:cyan\"> |-min_value: 32</span>"
      ],
      "text/plain": [
       "<IPython.core.display.HTML object>"
      ]
     },
     "metadata": {},
     "output_type": "display_data"
    },
    {
     "data": {
      "text/html": [
       "<span style=\"color:blue\"> |-sampling: None</span>"
      ],
      "text/plain": [
       "<IPython.core.display.HTML object>"
      ]
     },
     "metadata": {},
     "output_type": "display_data"
    },
    {
     "data": {
      "text/html": [
       "<span style=\"color:cyan\"> |-step: 32</span>"
      ],
      "text/plain": [
       "<IPython.core.display.HTML object>"
      ]
     },
     "metadata": {},
     "output_type": "display_data"
    },
    {
     "data": {
      "text/html": [
       "<span style=\"color:#7E57C2\"><h2 style=\"font-size:16px\">learning_rate (Choice)</h2></span>"
      ],
      "text/plain": [
       "<IPython.core.display.HTML object>"
      ]
     },
     "metadata": {},
     "output_type": "display_data"
    },
    {
     "data": {
      "text/html": [
       "<span style=\"color:cyan\"> |-default: 0.01</span>"
      ],
      "text/plain": [
       "<IPython.core.display.HTML object>"
      ]
     },
     "metadata": {},
     "output_type": "display_data"
    },
    {
     "data": {
      "text/html": [
       "<span style=\"color:blue\"> |-ordered: True</span>"
      ],
      "text/plain": [
       "<IPython.core.display.HTML object>"
      ]
     },
     "metadata": {},
     "output_type": "display_data"
    },
    {
     "data": {
      "text/html": [
       "<span style=\"color:cyan\"> |-values: [0.01, 0.001, 0.0001]</span>"
      ],
      "text/plain": [
       "<IPython.core.display.HTML object>"
      ]
     },
     "metadata": {},
     "output_type": "display_data"
    },
    {
     "data": {
      "text/html": [
       "<span style=\"color:#7E57C2\"><h2 style=\"font-size:16px\">conv_1_units (Int)</h2></span>"
      ],
      "text/plain": [
       "<IPython.core.display.HTML object>"
      ]
     },
     "metadata": {},
     "output_type": "display_data"
    },
    {
     "data": {
      "text/html": [
       "<span style=\"color:cyan\"> |-default: None</span>"
      ],
      "text/plain": [
       "<IPython.core.display.HTML object>"
      ]
     },
     "metadata": {},
     "output_type": "display_data"
    },
    {
     "data": {
      "text/html": [
       "<span style=\"color:blue\"> |-max_value: 256</span>"
      ],
      "text/plain": [
       "<IPython.core.display.HTML object>"
      ]
     },
     "metadata": {},
     "output_type": "display_data"
    },
    {
     "data": {
      "text/html": [
       "<span style=\"color:cyan\"> |-min_value: 32</span>"
      ],
      "text/plain": [
       "<IPython.core.display.HTML object>"
      ]
     },
     "metadata": {},
     "output_type": "display_data"
    },
    {
     "data": {
      "text/html": [
       "<span style=\"color:blue\"> |-sampling: None</span>"
      ],
      "text/plain": [
       "<IPython.core.display.HTML object>"
      ]
     },
     "metadata": {},
     "output_type": "display_data"
    },
    {
     "data": {
      "text/html": [
       "<span style=\"color:cyan\"> |-step: 32</span>"
      ],
      "text/plain": [
       "<IPython.core.display.HTML object>"
      ]
     },
     "metadata": {},
     "output_type": "display_data"
    },
    {
     "data": {
      "text/html": [
       "<span style=\"color:#7E57C2\"><h2 style=\"font-size:16px\">conv_2_units (Int)</h2></span>"
      ],
      "text/plain": [
       "<IPython.core.display.HTML object>"
      ]
     },
     "metadata": {},
     "output_type": "display_data"
    },
    {
     "data": {
      "text/html": [
       "<span style=\"color:cyan\"> |-default: None</span>"
      ],
      "text/plain": [
       "<IPython.core.display.HTML object>"
      ]
     },
     "metadata": {},
     "output_type": "display_data"
    },
    {
     "data": {
      "text/html": [
       "<span style=\"color:blue\"> |-max_value: 256</span>"
      ],
      "text/plain": [
       "<IPython.core.display.HTML object>"
      ]
     },
     "metadata": {},
     "output_type": "display_data"
    },
    {
     "data": {
      "text/html": [
       "<span style=\"color:cyan\"> |-min_value: 32</span>"
      ],
      "text/plain": [
       "<IPython.core.display.HTML object>"
      ]
     },
     "metadata": {},
     "output_type": "display_data"
    },
    {
     "data": {
      "text/html": [
       "<span style=\"color:blue\"> |-sampling: None</span>"
      ],
      "text/plain": [
       "<IPython.core.display.HTML object>"
      ]
     },
     "metadata": {},
     "output_type": "display_data"
    },
    {
     "data": {
      "text/html": [
       "<span style=\"color:cyan\"> |-step: 32</span>"
      ],
      "text/plain": [
       "<IPython.core.display.HTML object>"
      ]
     },
     "metadata": {},
     "output_type": "display_data"
    }
   ],
   "source": [
    "tuner.search_space_summary()"
   ]
  },
  {
   "cell_type": "code",
   "execution_count": 44,
   "metadata": {},
   "outputs": [
    {
     "name": "stdout",
     "output_type": "stream",
     "text": [
      "INFO:tensorflow:Oracle triggered exit\n"
     ]
    }
   ],
   "source": [
    "tuner.search(x_train_nn,\n",
    "             y_train_nn,\n",
    "             epochs=4,\n",
    "             batch_size=64,\n",
    "             validation_data=(x_test_origin_featureselect, y_test_origin)\n",
    "            )"
   ]
  },
  {
   "cell_type": "code",
   "execution_count": 45,
   "metadata": {},
   "outputs": [
    {
     "data": {
      "text/html": [
       "<span style=\"color:#4527A0\"><h1 style=\"font-size:18px\">Results summary</h1></span>"
      ],
      "text/plain": [
       "<IPython.core.display.HTML object>"
      ]
     },
     "metadata": {},
     "output_type": "display_data"
    },
    {
     "data": {
      "text/html": [
       "<span style=\"color:cyan\"> |-Results in LOG_DIR\\untitled_project</span>"
      ],
      "text/plain": [
       "<IPython.core.display.HTML object>"
      ]
     },
     "metadata": {},
     "output_type": "display_data"
    },
    {
     "data": {
      "text/html": [
       "<span style=\"color:cyan\"> |-Showing 10 best trials</span>"
      ],
      "text/plain": [
       "<IPython.core.display.HTML object>"
      ]
     },
     "metadata": {},
     "output_type": "display_data"
    },
    {
     "data": {
      "text/html": [
       "<span style=\"color:cyan\"> |-Objective(name='val_accuracy', direction='max')</span>"
      ],
      "text/plain": [
       "<IPython.core.display.HTML object>"
      ]
     },
     "metadata": {},
     "output_type": "display_data"
    },
    {
     "data": {
      "text/html": [
       "<span style=\"color:#4527A0\"><h1 style=\"font-size:18px\">Trial summary</h1></span>"
      ],
      "text/plain": [
       "<IPython.core.display.HTML object>"
      ]
     },
     "metadata": {},
     "output_type": "display_data"
    },
    {
     "data": {
      "text/html": [
       "<span style=\"color:cyan\"> |-Trial ID: c9743690591557da1ea2e5b9f59ea4f7</span>"
      ],
      "text/plain": [
       "<IPython.core.display.HTML object>"
      ]
     },
     "metadata": {},
     "output_type": "display_data"
    },
    {
     "data": {
      "text/html": [
       "<span style=\"color:cyan\"> |-Score: 0.9831804037094116</span>"
      ],
      "text/plain": [
       "<IPython.core.display.HTML object>"
      ]
     },
     "metadata": {},
     "output_type": "display_data"
    },
    {
     "data": {
      "text/html": [
       "<span style=\"color:cyan\"> |-Best step: 0</span>"
      ],
      "text/plain": [
       "<IPython.core.display.HTML object>"
      ]
     },
     "metadata": {},
     "output_type": "display_data"
    },
    {
     "data": {
      "text/html": [
       "<span style=\"color:#7E57C2\"><h2 style=\"font-size:16px\">Hyperparameters:</h2></span>"
      ],
      "text/plain": [
       "<IPython.core.display.HTML object>"
      ]
     },
     "metadata": {},
     "output_type": "display_data"
    },
    {
     "data": {
      "text/html": [
       "<span style=\"color:cyan\"> |-conv_0_units: 192</span>"
      ],
      "text/plain": [
       "<IPython.core.display.HTML object>"
      ]
     },
     "metadata": {},
     "output_type": "display_data"
    },
    {
     "data": {
      "text/html": [
       "<span style=\"color:blue\"> |-conv_1_units: 256</span>"
      ],
      "text/plain": [
       "<IPython.core.display.HTML object>"
      ]
     },
     "metadata": {},
     "output_type": "display_data"
    },
    {
     "data": {
      "text/html": [
       "<span style=\"color:cyan\"> |-conv_2_units: 96</span>"
      ],
      "text/plain": [
       "<IPython.core.display.HTML object>"
      ]
     },
     "metadata": {},
     "output_type": "display_data"
    },
    {
     "data": {
      "text/html": [
       "<span style=\"color:blue\"> |-learning_rate: 0.001</span>"
      ],
      "text/plain": [
       "<IPython.core.display.HTML object>"
      ]
     },
     "metadata": {},
     "output_type": "display_data"
    },
    {
     "data": {
      "text/html": [
       "<span style=\"color:cyan\"> |-n_layers: 2</span>"
      ],
      "text/plain": [
       "<IPython.core.display.HTML object>"
      ]
     },
     "metadata": {},
     "output_type": "display_data"
    },
    {
     "data": {
      "text/html": [
       "<span style=\"color:blue\"> |-units: 224</span>"
      ],
      "text/plain": [
       "<IPython.core.display.HTML object>"
      ]
     },
     "metadata": {},
     "output_type": "display_data"
    },
    {
     "data": {
      "text/html": [
       "<span style=\"color:#4527A0\"><h1 style=\"font-size:18px\">Trial summary</h1></span>"
      ],
      "text/plain": [
       "<IPython.core.display.HTML object>"
      ]
     },
     "metadata": {},
     "output_type": "display_data"
    },
    {
     "data": {
      "text/html": [
       "<span style=\"color:cyan\"> |-Trial ID: db47fb72b4937025b9714cb4d05bd073</span>"
      ],
      "text/plain": [
       "<IPython.core.display.HTML object>"
      ]
     },
     "metadata": {},
     "output_type": "display_data"
    },
    {
     "data": {
      "text/html": [
       "<span style=\"color:cyan\"> |-Score: 0.9816513657569885</span>"
      ],
      "text/plain": [
       "<IPython.core.display.HTML object>"
      ]
     },
     "metadata": {},
     "output_type": "display_data"
    },
    {
     "data": {
      "text/html": [
       "<span style=\"color:cyan\"> |-Best step: 0</span>"
      ],
      "text/plain": [
       "<IPython.core.display.HTML object>"
      ]
     },
     "metadata": {},
     "output_type": "display_data"
    },
    {
     "data": {
      "text/html": [
       "<span style=\"color:#7E57C2\"><h2 style=\"font-size:16px\">Hyperparameters:</h2></span>"
      ],
      "text/plain": [
       "<IPython.core.display.HTML object>"
      ]
     },
     "metadata": {},
     "output_type": "display_data"
    },
    {
     "data": {
      "text/html": [
       "<span style=\"color:cyan\"> |-conv_0_units: 256</span>"
      ],
      "text/plain": [
       "<IPython.core.display.HTML object>"
      ]
     },
     "metadata": {},
     "output_type": "display_data"
    },
    {
     "data": {
      "text/html": [
       "<span style=\"color:blue\"> |-conv_1_units: 96</span>"
      ],
      "text/plain": [
       "<IPython.core.display.HTML object>"
      ]
     },
     "metadata": {},
     "output_type": "display_data"
    },
    {
     "data": {
      "text/html": [
       "<span style=\"color:cyan\"> |-conv_2_units: 32</span>"
      ],
      "text/plain": [
       "<IPython.core.display.HTML object>"
      ]
     },
     "metadata": {},
     "output_type": "display_data"
    },
    {
     "data": {
      "text/html": [
       "<span style=\"color:blue\"> |-learning_rate: 0.01</span>"
      ],
      "text/plain": [
       "<IPython.core.display.HTML object>"
      ]
     },
     "metadata": {},
     "output_type": "display_data"
    },
    {
     "data": {
      "text/html": [
       "<span style=\"color:cyan\"> |-n_layers: 3</span>"
      ],
      "text/plain": [
       "<IPython.core.display.HTML object>"
      ]
     },
     "metadata": {},
     "output_type": "display_data"
    },
    {
     "data": {
      "text/html": [
       "<span style=\"color:blue\"> |-units: 96</span>"
      ],
      "text/plain": [
       "<IPython.core.display.HTML object>"
      ]
     },
     "metadata": {},
     "output_type": "display_data"
    },
    {
     "data": {
      "text/html": [
       "<span style=\"color:#4527A0\"><h1 style=\"font-size:18px\">Trial summary</h1></span>"
      ],
      "text/plain": [
       "<IPython.core.display.HTML object>"
      ]
     },
     "metadata": {},
     "output_type": "display_data"
    },
    {
     "data": {
      "text/html": [
       "<span style=\"color:cyan\"> |-Trial ID: 40a2dd012d7c3da15e0cc87106d57501</span>"
      ],
      "text/plain": [
       "<IPython.core.display.HTML object>"
      ]
     },
     "metadata": {},
     "output_type": "display_data"
    },
    {
     "data": {
      "text/html": [
       "<span style=\"color:cyan\"> |-Score: 0.9619436264038086</span>"
      ],
      "text/plain": [
       "<IPython.core.display.HTML object>"
      ]
     },
     "metadata": {},
     "output_type": "display_data"
    },
    {
     "data": {
      "text/html": [
       "<span style=\"color:cyan\"> |-Best step: 0</span>"
      ],
      "text/plain": [
       "<IPython.core.display.HTML object>"
      ]
     },
     "metadata": {},
     "output_type": "display_data"
    },
    {
     "data": {
      "text/html": [
       "<span style=\"color:#7E57C2\"><h2 style=\"font-size:16px\">Hyperparameters:</h2></span>"
      ],
      "text/plain": [
       "<IPython.core.display.HTML object>"
      ]
     },
     "metadata": {},
     "output_type": "display_data"
    },
    {
     "data": {
      "text/html": [
       "<span style=\"color:cyan\"> |-conv_0_units: 160</span>"
      ],
      "text/plain": [
       "<IPython.core.display.HTML object>"
      ]
     },
     "metadata": {},
     "output_type": "display_data"
    },
    {
     "data": {
      "text/html": [
       "<span style=\"color:blue\"> |-conv_1_units: 160</span>"
      ],
      "text/plain": [
       "<IPython.core.display.HTML object>"
      ]
     },
     "metadata": {},
     "output_type": "display_data"
    },
    {
     "data": {
      "text/html": [
       "<span style=\"color:cyan\"> |-conv_2_units: 192</span>"
      ],
      "text/plain": [
       "<IPython.core.display.HTML object>"
      ]
     },
     "metadata": {},
     "output_type": "display_data"
    },
    {
     "data": {
      "text/html": [
       "<span style=\"color:blue\"> |-learning_rate: 0.0001</span>"
      ],
      "text/plain": [
       "<IPython.core.display.HTML object>"
      ]
     },
     "metadata": {},
     "output_type": "display_data"
    },
    {
     "data": {
      "text/html": [
       "<span style=\"color:cyan\"> |-n_layers: 2</span>"
      ],
      "text/plain": [
       "<IPython.core.display.HTML object>"
      ]
     },
     "metadata": {},
     "output_type": "display_data"
    },
    {
     "data": {
      "text/html": [
       "<span style=\"color:blue\"> |-units: 416</span>"
      ],
      "text/plain": [
       "<IPython.core.display.HTML object>"
      ]
     },
     "metadata": {},
     "output_type": "display_data"
    },
    {
     "data": {
      "text/html": [
       "<span style=\"color:#4527A0\"><h1 style=\"font-size:18px\">Trial summary</h1></span>"
      ],
      "text/plain": [
       "<IPython.core.display.HTML object>"
      ]
     },
     "metadata": {},
     "output_type": "display_data"
    },
    {
     "data": {
      "text/html": [
       "<span style=\"color:cyan\"> |-Trial ID: 32e1848ec46f915051ecefafeeb7a6df</span>"
      ],
      "text/plain": [
       "<IPython.core.display.HTML object>"
      ]
     },
     "metadata": {},
     "output_type": "display_data"
    },
    {
     "data": {
      "text/html": [
       "<span style=\"color:cyan\"> |-Score: 0.9109752178192139</span>"
      ],
      "text/plain": [
       "<IPython.core.display.HTML object>"
      ]
     },
     "metadata": {},
     "output_type": "display_data"
    },
    {
     "data": {
      "text/html": [
       "<span style=\"color:cyan\"> |-Best step: 0</span>"
      ],
      "text/plain": [
       "<IPython.core.display.HTML object>"
      ]
     },
     "metadata": {},
     "output_type": "display_data"
    },
    {
     "data": {
      "text/html": [
       "<span style=\"color:#7E57C2\"><h2 style=\"font-size:16px\">Hyperparameters:</h2></span>"
      ],
      "text/plain": [
       "<IPython.core.display.HTML object>"
      ]
     },
     "metadata": {},
     "output_type": "display_data"
    },
    {
     "data": {
      "text/html": [
       "<span style=\"color:cyan\"> |-conv_0_units: 96</span>"
      ],
      "text/plain": [
       "<IPython.core.display.HTML object>"
      ]
     },
     "metadata": {},
     "output_type": "display_data"
    },
    {
     "data": {
      "text/html": [
       "<span style=\"color:blue\"> |-learning_rate: 0.0001</span>"
      ],
      "text/plain": [
       "<IPython.core.display.HTML object>"
      ]
     },
     "metadata": {},
     "output_type": "display_data"
    },
    {
     "data": {
      "text/html": [
       "<span style=\"color:cyan\"> |-n_layers: 1</span>"
      ],
      "text/plain": [
       "<IPython.core.display.HTML object>"
      ]
     },
     "metadata": {},
     "output_type": "display_data"
    },
    {
     "data": {
      "text/html": [
       "<span style=\"color:blue\"> |-units: 448</span>"
      ],
      "text/plain": [
       "<IPython.core.display.HTML object>"
      ]
     },
     "metadata": {},
     "output_type": "display_data"
    },
    {
     "data": {
      "text/html": [
       "<span style=\"color:#4527A0\"><h1 style=\"font-size:18px\">Trial summary</h1></span>"
      ],
      "text/plain": [
       "<IPython.core.display.HTML object>"
      ]
     },
     "metadata": {},
     "output_type": "display_data"
    },
    {
     "data": {
      "text/html": [
       "<span style=\"color:cyan\"> |-Trial ID: 159c7ef17dcd0f56c6e6eb98154370ae</span>"
      ],
      "text/plain": [
       "<IPython.core.display.HTML object>"
      ]
     },
     "metadata": {},
     "output_type": "display_data"
    },
    {
     "data": {
      "text/html": [
       "<span style=\"color:cyan\"> |-Score: 0.8977234363555908</span>"
      ],
      "text/plain": [
       "<IPython.core.display.HTML object>"
      ]
     },
     "metadata": {},
     "output_type": "display_data"
    },
    {
     "data": {
      "text/html": [
       "<span style=\"color:cyan\"> |-Best step: 0</span>"
      ],
      "text/plain": [
       "<IPython.core.display.HTML object>"
      ]
     },
     "metadata": {},
     "output_type": "display_data"
    },
    {
     "data": {
      "text/html": [
       "<span style=\"color:#7E57C2\"><h2 style=\"font-size:16px\">Hyperparameters:</h2></span>"
      ],
      "text/plain": [
       "<IPython.core.display.HTML object>"
      ]
     },
     "metadata": {},
     "output_type": "display_data"
    },
    {
     "data": {
      "text/html": [
       "<span style=\"color:cyan\"> |-conv_0_units: 64</span>"
      ],
      "text/plain": [
       "<IPython.core.display.HTML object>"
      ]
     },
     "metadata": {},
     "output_type": "display_data"
    },
    {
     "data": {
      "text/html": [
       "<span style=\"color:blue\"> |-conv_1_units: 32</span>"
      ],
      "text/plain": [
       "<IPython.core.display.HTML object>"
      ]
     },
     "metadata": {},
     "output_type": "display_data"
    },
    {
     "data": {
      "text/html": [
       "<span style=\"color:cyan\"> |-learning_rate: 0.0001</span>"
      ],
      "text/plain": [
       "<IPython.core.display.HTML object>"
      ]
     },
     "metadata": {},
     "output_type": "display_data"
    },
    {
     "data": {
      "text/html": [
       "<span style=\"color:blue\"> |-n_layers: 2</span>"
      ],
      "text/plain": [
       "<IPython.core.display.HTML object>"
      ]
     },
     "metadata": {},
     "output_type": "display_data"
    },
    {
     "data": {
      "text/html": [
       "<span style=\"color:cyan\"> |-units: 448</span>"
      ],
      "text/plain": [
       "<IPython.core.display.HTML object>"
      ]
     },
     "metadata": {},
     "output_type": "display_data"
    }
   ],
   "source": [
    "tuner.results_summary()"
   ]
  },
  {
   "cell_type": "code",
   "execution_count": 46,
   "metadata": {},
   "outputs": [
    {
     "name": "stdout",
     "output_type": "stream",
     "text": [
      "Model: \"sequential\"\n",
      "_________________________________________________________________\n",
      "Layer (type)                 Output Shape              Param #   \n",
      "=================================================================\n",
      "dense (Dense)                (None, 224)               2016      \n",
      "_________________________________________________________________\n",
      "dense_1 (Dense)              (None, 192)               43200     \n",
      "_________________________________________________________________\n",
      "dense_2 (Dense)              (None, 256)               49408     \n",
      "_________________________________________________________________\n",
      "dense_3 (Dense)              (None, 1)                 257       \n",
      "=================================================================\n",
      "Total params: 94,881\n",
      "Trainable params: 94,881\n",
      "Non-trainable params: 0\n",
      "_________________________________________________________________\n"
     ]
    }
   ],
   "source": [
    "tuner.get_best_models()[0].summary()"
   ]
  },
  {
   "cell_type": "code",
   "execution_count": 47,
   "metadata": {},
   "outputs": [
    {
     "data": {
      "text/plain": [
       "{'units': 224,\n",
       " 'n_layers': 2,\n",
       " 'conv_0_units': 192,\n",
       " 'learning_rate': 0.001,\n",
       " 'conv_1_units': 256,\n",
       " 'conv_2_units': 96}"
      ]
     },
     "execution_count": 47,
     "metadata": {},
     "output_type": "execute_result"
    }
   ],
   "source": [
    "tuner.get_best_hyperparameters()[0].values"
   ]
  },
  {
   "cell_type": "code",
   "execution_count": 48,
   "metadata": {},
   "outputs": [
    {
     "name": "stdout",
     "output_type": "stream",
     "text": [
      "WARNING:tensorflow:Unresolved object in checkpoint: (root).optimizer.iter\n",
      "WARNING:tensorflow:Unresolved object in checkpoint: (root).optimizer.beta_1\n",
      "WARNING:tensorflow:Unresolved object in checkpoint: (root).optimizer.beta_2\n",
      "WARNING:tensorflow:Unresolved object in checkpoint: (root).optimizer.decay\n",
      "WARNING:tensorflow:Unresolved object in checkpoint: (root).optimizer.learning_rate\n",
      "WARNING:tensorflow:A checkpoint was restored (e.g. tf.train.Checkpoint.restore or tf.keras.Model.load_weights) but not all checkpointed values were used. See above for specific issues. Use expect_partial() on the load status object, e.g. tf.train.Checkpoint.restore(...).expect_partial(), to silence these warnings, or use assert_consumed() to make the check explicit. See https://www.tensorflow.org/guide/checkpoint#loading_mechanics for details.\n"
     ]
    }
   ],
   "source": [
    "# Retrieve the best model.\n",
    "best_model = tuner.get_best_models(num_models=1)[0]"
   ]
  },
  {
   "cell_type": "code",
   "execution_count": 49,
   "metadata": {},
   "outputs": [
    {
     "name": "stdout",
     "output_type": "stream",
     "text": [
      "2943/2943 [==============================] - ETA: 14s - loss: 0.2050 - accuracy: 1.000 - ETA: 0s - loss: 0.2121 - accuracy: 0.991 - ETA: 0s - loss: 0.2166 - accuracy: 0.98 - 0s 100us/sample - loss: 0.2184 - accuracy: 0.9884\n"
     ]
    }
   ],
   "source": [
    "# Evaluate the best model.\n",
    "loss, accuracy = best_model.evaluate(x_test_origin_featureselect, y_test_origin)"
   ]
  },
  {
   "cell_type": "code",
   "execution_count": 50,
   "metadata": {},
   "outputs": [
    {
     "name": "stdout",
     "output_type": "stream",
     "text": [
      "the accuracy of the model is :  0.9884472\n"
     ]
    }
   ],
   "source": [
    "print('the accuracy of the model is : ' ,  accuracy)"
   ]
  },
  {
   "cell_type": "code",
   "execution_count": 51,
   "metadata": {},
   "outputs": [],
   "source": [
    "predict_proba = best_model.predict_proba(x_test_origin_featureselect)"
   ]
  },
  {
   "cell_type": "code",
   "execution_count": 52,
   "metadata": {},
   "outputs": [
    {
     "name": "stdout",
     "output_type": "stream",
     "text": [
      "The model prauc_score is 0.9600431218061909.\n"
     ]
    }
   ],
   "source": [
    "precision, recall, _ = precision_recall_curve(y_test_origin, predict_proba)\n",
    "auc_score = auc(recall, precision)\n",
    "print(\"The model prauc_score is {}.\".format(auc_score))"
   ]
  },
  {
   "cell_type": "code",
   "execution_count": 53,
   "metadata": {},
   "outputs": [],
   "source": [
    "class_prediction = best_model.predict_classes(x_test_origin_featureselect)"
   ]
  },
  {
   "cell_type": "code",
   "execution_count": 54,
   "metadata": {},
   "outputs": [
    {
     "name": "stdout",
     "output_type": "stream",
     "text": [
      "              precision    recall  f1-score   support\n",
      "\n",
      "           0       1.00      0.99      0.99      2843\n",
      "           1       0.77      0.95      0.85       100\n",
      "\n",
      "    accuracy                           0.99      2943\n",
      "   macro avg       0.88      0.97      0.92      2943\n",
      "weighted avg       0.99      0.99      0.99      2943\n",
      "\n",
      "[[2814   29]\n",
      " [   5   95]]\n"
     ]
    }
   ],
   "source": [
    "print(classification_report(y_test_origin, class_prediction))\n",
    "print(confusion_matrix(y_test_origin, class_prediction))"
   ]
  },
  {
   "cell_type": "markdown",
   "metadata": {},
   "source": [
    "# Using SMOTE for oversampling"
   ]
  },
  {
   "cell_type": "code",
   "execution_count": 55,
   "metadata": {},
   "outputs": [
    {
     "data": {
      "text/plain": [
       "(492, 31)"
      ]
     },
     "execution_count": 55,
     "metadata": {},
     "output_type": "execute_result"
    }
   ],
   "source": [
    "data_class_fraud.shape"
   ]
  },
  {
   "cell_type": "code",
   "execution_count": 56,
   "metadata": {},
   "outputs": [
    {
     "data": {
      "text/plain": [
       "(11368, 31)"
      ]
     },
     "execution_count": 56,
     "metadata": {},
     "output_type": "execute_result"
    }
   ],
   "source": [
    "data_frac_smote = data_frac.sample(frac =.4)\n",
    "data_frac_nofraud= data_frac_smote.loc[data_frac_smote['Class']== 0]\n",
    "data_frac_nofraud.shape"
   ]
  },
  {
   "cell_type": "code",
   "execution_count": 57,
   "metadata": {},
   "outputs": [
    {
     "data": {
      "text/plain": [
       "(11860, 33)"
      ]
     },
     "execution_count": 57,
     "metadata": {},
     "output_type": "execute_result"
    }
   ],
   "source": [
    "data_frac_smote = pd.concat([data_class_fraud, data_frac_nofraud], axis=0, sort=False)\n",
    "data_frac_smote.shape\n",
    "                            "
   ]
  },
  {
   "cell_type": "code",
   "execution_count": 58,
   "metadata": {},
   "outputs": [
    {
     "name": "stdout",
     "output_type": "stream",
     "text": [
      "pourcentage de fraud dans le dataset oversampeled : 4.328318817629982 %\n"
     ]
    }
   ],
   "source": [
    "print('pourcentage de fraud dans le dataset oversampeled :',(492/11367)*100,'%')"
   ]
  },
  {
   "cell_type": "code",
   "execution_count": 59,
   "metadata": {},
   "outputs": [
    {
     "name": "stdout",
     "output_type": "stream",
     "text": [
      "Counter({0: 11368, 1: 492})\n",
      "(11860, 8)\n",
      "(11860,)\n"
     ]
    }
   ],
   "source": [
    "X_smot = data_frac_smote.loc[:, randomForestFeatures]\n",
    "Y_smot = data_frac_smote[target]\n",
    "print(Counter(Y_smot))\n",
    "print(X_smot.shape)\n",
    "print(Y_smot.shape)"
   ]
  },
  {
   "cell_type": "code",
   "execution_count": 60,
   "metadata": {},
   "outputs": [],
   "source": [
    "x_train_sm, x_test_smote, y_train_sm, y_test_smote = train_test_split(X_smot,Y_smot, test_size=0.3, stratify=Y_smot, random_state=0)"
   ]
  },
  {
   "cell_type": "code",
   "execution_count": 61,
   "metadata": {},
   "outputs": [
    {
     "name": "stdout",
     "output_type": "stream",
     "text": [
      "Counter({0: 7958, 1: 7958})\n"
     ]
    }
   ],
   "source": [
    "oversample = SMOTE(random_state=42)\n",
    "x_train_smote, y_train_smote = oversample.fit_resample(x_train_sm, y_train_sm)\n",
    "print(Counter(y_train_smote))\n"
   ]
  },
  {
   "cell_type": "code",
   "execution_count": 62,
   "metadata": {},
   "outputs": [
    {
     "name": "stdout",
     "output_type": "stream",
     "text": [
      "Counter({0: 3410, 1: 148})\n"
     ]
    }
   ],
   "source": [
    "print(Counter(y_test_smote))"
   ]
  },
  {
   "cell_type": "code",
   "execution_count": 63,
   "metadata": {},
   "outputs": [
    {
     "name": "stdout",
     "output_type": "stream",
     "text": [
      "Fitting 5 folds for each of 12 candidates, totalling 60 fits\n"
     ]
    },
    {
     "name": "stderr",
     "output_type": "stream",
     "text": [
      "[Parallel(n_jobs=-1)]: Using backend LokyBackend with 4 concurrent workers.\n",
      "[Parallel(n_jobs=-1)]: Done  53 out of  60 | elapsed:    0.6s remaining:    0.0s\n",
      "[Parallel(n_jobs=-1)]: Done  60 out of  60 | elapsed:    0.7s finished\n"
     ]
    },
    {
     "name": "stdout",
     "output_type": "stream",
     "text": [
      "Fitting 5 folds for each of 96 candidates, totalling 480 fits\n"
     ]
    },
    {
     "name": "stderr",
     "output_type": "stream",
     "text": [
      "[Parallel(n_jobs=-1)]: Using backend LokyBackend with 4 concurrent workers.\n",
      "[Parallel(n_jobs=-1)]: Done  42 tasks      | elapsed:   27.3s\n",
      "[Parallel(n_jobs=-1)]: Done 192 tasks      | elapsed:  3.3min\n",
      "[Parallel(n_jobs=-1)]: Done 442 tasks      | elapsed:  8.3min\n",
      "[Parallel(n_jobs=-1)]: Done 480 out of 480 | elapsed:  9.6min finished\n"
     ]
    },
    {
     "name": "stdout",
     "output_type": "stream",
     "text": [
      "Fitting 5 folds for each of 72 candidates, totalling 360 fits\n"
     ]
    },
    {
     "name": "stderr",
     "output_type": "stream",
     "text": [
      "[Parallel(n_jobs=-1)]: Using backend LokyBackend with 4 concurrent workers.\n",
      "[Parallel(n_jobs=-1)]: Done  42 tasks      | elapsed:  1.9min\n",
      "[Parallel(n_jobs=-1)]: Done 192 tasks      | elapsed:  9.3min\n",
      "[Parallel(n_jobs=-1)]: Done 360 out of 360 | elapsed: 20.6min finished\n"
     ]
    }
   ],
   "source": [
    "grid_models =gridSearch(x_train_smote,y_train_smote, models)"
   ]
  },
  {
   "cell_type": "code",
   "execution_count": 64,
   "metadata": {
    "scrolled": false
   },
   "outputs": [
    {
     "name": "stdout",
     "output_type": "stream",
     "text": [
      "Model name :  LogisticRegression(random_state=0)\n",
      "Best Parameters {'C': 1, 'penalty': 'l2'}\n",
      "AUC-score : [0.9967815687653886]\n",
      "Precision-Recall-auc:  [0.9638849994868162]\n",
      "Balanced accuracy score [0.9636440379880408]\n",
      "Recall : [0.96]\n",
      "Precision : [0.5079365079365079]\n",
      "F1_score [0.6643598615916955]\n",
      "              precision    recall  f1-score   support\n",
      "\n",
      "           0       1.00      0.97      0.98      2843\n",
      "           1       0.51      0.96      0.66       100\n",
      "\n",
      "    accuracy                           0.97      2943\n",
      "   macro avg       0.75      0.96      0.82      2943\n",
      "weighted avg       0.98      0.97      0.97      2943\n",
      "\n",
      "[[2750   93]\n",
      " [   4   96]]\n",
      "\n",
      "\n",
      "roc_curve:\n"
     ]
    },
    {
     "data": {
      "image/png": "[encoded data removed]",
      "text/plain": [
       "<Figure size 432x288 with 1 Axes>"
      ]
     },
     "metadata": {
      "needs_background": "light"
     },
     "output_type": "display_data"
    },
    {
     "name": "stdout",
     "output_type": "stream",
     "text": [
      "\n",
      "\n",
      "prauc_curve:\n"
     ]
    },
    {
     "data": {
      "image/png": "[encoded data removed]",
      "text/plain": [
       "<Figure size 432x288 with 1 Axes>"
      ]
     },
     "metadata": {
      "needs_background": "light"
     },
     "output_type": "display_data"
    },
    {
     "name": "stdout",
     "output_type": "stream",
     "text": [
      "*******\n",
      "Model name :  XGBClassifier(nthread=4)\n",
      "Best Parameters {'learning_rate': 0.1, 'max_depth': 9, 'n_estimators': 180}\n",
      "AUC-score : [0.99966584593739]\n",
      "Precision-Recall-auc:  [0.9924035166535963]\n",
      "Balanced accuracy score [0.9911308476960956]\n",
      "Recall : [0.99]\n",
      "Precision : [0.8181818181818182]\n",
      "F1_score [0.8959276018099549]\n",
      "              precision    recall  f1-score   support\n",
      "\n",
      "           0       1.00      0.99      1.00      2843\n",
      "           1       0.82      0.99      0.90       100\n",
      "\n",
      "    accuracy                           0.99      2943\n",
      "   macro avg       0.91      0.99      0.95      2943\n",
      "weighted avg       0.99      0.99      0.99      2943\n",
      "\n",
      "[[2821   22]\n",
      " [   1   99]]\n",
      "\n",
      "\n",
      "roc_curve:\n"
     ]
    },
    {
     "data": {
      "image/png": "[encoded data removed]",
      "text/plain": [
       "<Figure size 432x288 with 1 Axes>"
      ]
     },
     "metadata": {
      "needs_background": "light"
     },
     "output_type": "display_data"
    },
    {
     "name": "stdout",
     "output_type": "stream",
     "text": [
      "\n",
      "\n",
      "prauc_curve:\n"
     ]
    },
    {
     "data": {
      "image/png": "[encoded data removed]",
      "text/plain": [
       "<Figure size 432x288 with 1 Axes>"
      ]
     },
     "metadata": {
      "needs_background": "light"
     },
     "output_type": "display_data"
    },
    {
     "name": "stdout",
     "output_type": "stream",
     "text": [
      "*******\n",
      "Model name :  RandomForestClassifier(random_state=0)\n",
      "Best Parameters {'bootstrap': False, 'max_depth': 30, 'min_samples_split': 2, 'n_estimators': 100}\n",
      "AUC-score : [0.9995145972564193]\n",
      "Precision-Recall-auc:  [0.9907538314454037]\n",
      "Balanced accuracy score [0.9830654238480478]\n",
      "Recall : [0.97]\n",
      "Precision : [0.8981481481481481]\n",
      "F1_score [0.9326923076923077]\n",
      "              precision    recall  f1-score   support\n",
      "\n",
      "           0       1.00      1.00      1.00      2843\n",
      "           1       0.90      0.97      0.93       100\n",
      "\n",
      "    accuracy                           1.00      2943\n",
      "   macro avg       0.95      0.98      0.97      2943\n",
      "weighted avg       1.00      1.00      1.00      2943\n",
      "\n",
      "[[2832   11]\n",
      " [   3   97]]\n",
      "\n",
      "\n",
      "roc_curve:\n"
     ]
    },
    {
     "data": {
      "image/png": "[encoded data removed]",
      "text/plain": [
       "<Figure size 432x288 with 1 Axes>"
      ]
     },
     "metadata": {
      "needs_background": "light"
     },
     "output_type": "display_data"
    },
    {
     "name": "stdout",
     "output_type": "stream",
     "text": [
      "\n",
      "\n",
      "prauc_curve:\n"
     ]
    },
    {
     "data": {
      "image/png": "[encoded data removed]",
      "text/plain": [
       "<Figure size 432x288 with 1 Axes>"
      ]
     },
     "metadata": {
      "needs_background": "light"
     },
     "output_type": "display_data"
    },
    {
     "name": "stdout",
     "output_type": "stream",
     "text": [
      "*******\n"
     ]
    }
   ],
   "source": [
    "for i in range(len(models)):\n",
    "  print(\"Model name : \", models[i][\"Model\"])\n",
    "  fit_score(grid_models[i], x_test_origin_featureselect ,y_test_origin)\n",
    "  print(\"*******\")"
   ]
  },
  {
   "cell_type": "markdown",
   "metadata": {},
   "source": [
    "# ANN with oversampling"
   ]
  },
  {
   "cell_type": "code",
   "execution_count": 65,
   "metadata": {},
   "outputs": [],
   "source": [
    "def build_model(hp):\n",
    "    model = keras.Sequential()\n",
    "    model.add(layers.Dense(units=hp.Int('units',\n",
    "                                        min_value=32,\n",
    "                                        max_value=512,\n",
    "                                        step=32),\n",
    "                           activation='relu', input_dim=(x_train_smote.shape[1])))\n",
    "    for i in range(hp.Int('n_layers', 1, 8)):\n",
    "        model.add(layers.Dense(hp.Int(f'conv_{i}_units',\n",
    "                                min_value=32,\n",
    "                                max_value=256,\n",
    "                                step=32), activation=\"relu\"))\n",
    "    model.add(layers.Dense(1, activation='sigmoid'))\n",
    "    model.compile(\n",
    "        optimizer=keras.optimizers.Adam(\n",
    "            hp.Choice('learning_rate',\n",
    "                      values=[1e-2, 1e-3, 1e-4])),\n",
    "        loss='binary_crossentropy',\n",
    "        metrics=['accuracy'])\n",
    "    return model"
   ]
  },
  {
   "cell_type": "code",
   "execution_count": 66,
   "metadata": {},
   "outputs": [
    {
     "name": "stdout",
     "output_type": "stream",
     "text": [
      "INFO:tensorflow:Reloading Oracle from existing project LOG_DIR_SMOTE\\untitled_project\\oracle.json\n",
      "INFO:tensorflow:Reloading Tuner from LOG_DIR_SMOTE\\untitled_project\\tuner0.json\n"
     ]
    }
   ],
   "source": [
    "tuner = RandomSearch(\n",
    "    build_model,\n",
    "    objective='val_accuracy',\n",
    "    max_trials=5,\n",
    "    executions_per_trial=2,\n",
    "    directory='LOG_DIR_SMOTE')"
   ]
  },
  {
   "cell_type": "code",
   "execution_count": 67,
   "metadata": {
    "scrolled": true
   },
   "outputs": [
    {
     "name": "stdout",
     "output_type": "stream",
     "text": [
      "INFO:tensorflow:Oracle triggered exit\n"
     ]
    }
   ],
   "source": [
    "tuner.search(x_train_smote,\n",
    "            y_train_smote,\n",
    "             epochs=7,\n",
    "             batch_size=64,\n",
    "             validation_data=(x_test_origin_featureselect, y_test_origin)\n",
    "            )"
   ]
  },
  {
   "cell_type": "code",
   "execution_count": 68,
   "metadata": {},
   "outputs": [
    {
     "name": "stdout",
     "output_type": "stream",
     "text": [
      "Model: \"sequential\"\n",
      "_________________________________________________________________\n",
      "Layer (type)                 Output Shape              Param #   \n",
      "=================================================================\n",
      "dense (Dense)                (None, 384)               3456      \n",
      "_________________________________________________________________\n",
      "dense_1 (Dense)              (None, 160)               61600     \n",
      "_________________________________________________________________\n",
      "dense_2 (Dense)              (None, 32)                5152      \n",
      "_________________________________________________________________\n",
      "dense_3 (Dense)              (None, 32)                1056      \n",
      "_________________________________________________________________\n",
      "dense_4 (Dense)              (None, 32)                1056      \n",
      "_________________________________________________________________\n",
      "dense_5 (Dense)              (None, 32)                1056      \n",
      "_________________________________________________________________\n",
      "dense_6 (Dense)              (None, 1)                 33        \n",
      "=================================================================\n",
      "Total params: 73,409\n",
      "Trainable params: 73,409\n",
      "Non-trainable params: 0\n",
      "_________________________________________________________________\n"
     ]
    }
   ],
   "source": [
    "tuner.get_best_models()[0].summary()"
   ]
  },
  {
   "cell_type": "code",
   "execution_count": 69,
   "metadata": {},
   "outputs": [
    {
     "data": {
      "text/plain": [
       "{'units': 384,\n",
       " 'n_layers': 5,\n",
       " 'conv_0_units': 160,\n",
       " 'learning_rate': 0.0001,\n",
       " 'conv_1_units': 32,\n",
       " 'conv_2_units': 32,\n",
       " 'conv_3_units': 32,\n",
       " 'conv_4_units': 32}"
      ]
     },
     "execution_count": 69,
     "metadata": {},
     "output_type": "execute_result"
    }
   ],
   "source": [
    "tuner.get_best_hyperparameters()[0].values"
   ]
  },
  {
   "cell_type": "code",
   "execution_count": 70,
   "metadata": {},
   "outputs": [
    {
     "name": "stdout",
     "output_type": "stream",
     "text": [
      "WARNING:tensorflow:Unresolved object in checkpoint: (root).optimizer.iter\n",
      "WARNING:tensorflow:Unresolved object in checkpoint: (root).optimizer.beta_1\n",
      "WARNING:tensorflow:Unresolved object in checkpoint: (root).optimizer.beta_2\n",
      "WARNING:tensorflow:Unresolved object in checkpoint: (root).optimizer.decay\n",
      "WARNING:tensorflow:Unresolved object in checkpoint: (root).optimizer.learning_rate\n",
      "WARNING:tensorflow:A checkpoint was restored (e.g. tf.train.Checkpoint.restore or tf.keras.Model.load_weights) but not all checkpointed values were used. See above for specific issues. Use expect_partial() on the load status object, e.g. tf.train.Checkpoint.restore(...).expect_partial(), to silence these warnings, or use assert_consumed() to make the check explicit. See https://www.tensorflow.org/guide/checkpoint#loading_mechanics for details.\n"
     ]
    }
   ],
   "source": [
    "# Retrieve the best model.\n",
    "best_model = tuner.get_best_models(num_models=1)[0]"
   ]
  },
  {
   "cell_type": "code",
   "execution_count": 71,
   "metadata": {},
   "outputs": [
    {
     "name": "stdout",
     "output_type": "stream",
     "text": [
      "2943/2943 [==============================] - ETA: 26s - loss: 0.0294 - accuracy: 1.000 - ETA: 0s - loss: 0.0459 - accuracy: 0.989 - ETA: 0s - loss: 0.0482 - accuracy: 0.98 - ETA: 0s - loss: 0.0462 - accuracy: 0.98 - ETA: 0s - loss: 0.0461 - accuracy: 0.98 - 1s 174us/sample - loss: 0.0466 - accuracy: 0.9895\n"
     ]
    }
   ],
   "source": [
    "# Evaluate the best model.\n",
    "loss, accuracy = best_model.evaluate(x_test_origin_featureselect, y_test_origin)"
   ]
  },
  {
   "cell_type": "code",
   "execution_count": 72,
   "metadata": {},
   "outputs": [
    {
     "name": "stdout",
     "output_type": "stream",
     "text": [
      "the accuracy of the model is :  0.98946655\n"
     ]
    }
   ],
   "source": [
    "print('the accuracy of the model is : ' ,  accuracy)"
   ]
  },
  {
   "cell_type": "code",
   "execution_count": 73,
   "metadata": {},
   "outputs": [],
   "source": [
    "predict_proba = best_model.predict_proba(x_test_origin_featureselect)"
   ]
  },
  {
   "cell_type": "code",
   "execution_count": 74,
   "metadata": {},
   "outputs": [
    {
     "name": "stdout",
     "output_type": "stream",
     "text": [
      "The model prauc_score is 0.9739106784365578.\n"
     ]
    }
   ],
   "source": [
    "precision, recall, _ = precision_recall_curve(y_test_origin, predict_proba)\n",
    "auc_score = auc(recall, precision)\n",
    "print(\"The model prauc_score is {}.\".format(auc_score))"
   ]
  },
  {
   "cell_type": "code",
   "execution_count": 75,
   "metadata": {},
   "outputs": [],
   "source": [
    "class_prediction = best_model.predict_classes(x_test_origin_featureselect)"
   ]
  },
  {
   "cell_type": "code",
   "execution_count": 76,
   "metadata": {},
   "outputs": [
    {
     "name": "stdout",
     "output_type": "stream",
     "text": [
      "              precision    recall  f1-score   support\n",
      "\n",
      "           0       1.00      0.99      0.99      2843\n",
      "           1       0.78      0.97      0.86       100\n",
      "\n",
      "    accuracy                           0.99      2943\n",
      "   macro avg       0.89      0.98      0.93      2943\n",
      "weighted avg       0.99      0.99      0.99      2943\n",
      "\n",
      "[[2815   28]\n",
      " [   3   97]]\n"
     ]
    }
   ],
   "source": [
    "print(classification_report(y_test_origin, class_prediction))\n",
    "print(confusion_matrix(y_test_origin, class_prediction))"
   ]
  },
  {
   "cell_type": "markdown",
   "metadata": {},
   "source": [
    "## Implementing GANS"
   ]
  },
  {
   "cell_type": "code",
   "execution_count": 77,
   "metadata": {},
   "outputs": [
    {
     "name": "stdout",
     "output_type": "stream",
     "text": [
      "Model: \"sequential_1\"\n",
      "_________________________________________________________________\n",
      "Layer (type)                 Output Shape              Param #   \n",
      "=================================================================\n",
      "dense_7 (Dense)              (None, 512)               4608      \n",
      "_________________________________________________________________\n",
      "leaky_re_lu (LeakyReLU)      (None, 512)               0         \n",
      "_________________________________________________________________\n",
      "dense_8 (Dense)              (None, 256)               131328    \n",
      "_________________________________________________________________\n",
      "leaky_re_lu_1 (LeakyReLU)    (None, 256)               0         \n",
      "_________________________________________________________________\n",
      "dropout (Dropout)            (None, 256)               0         \n",
      "_________________________________________________________________\n",
      "dense_9 (Dense)              (None, 128)               32896     \n",
      "_________________________________________________________________\n",
      "leaky_re_lu_2 (LeakyReLU)    (None, 128)               0         \n",
      "_________________________________________________________________\n",
      "dropout_1 (Dropout)          (None, 128)               0         \n",
      "_________________________________________________________________\n",
      "dense_10 (Dense)             (None, 1)                 129       \n",
      "=================================================================\n",
      "Total params: 168,961\n",
      "Trainable params: 168,961\n",
      "Non-trainable params: 0\n",
      "_________________________________________________________________\n",
      "Model: \"sequential_2\"\n",
      "_________________________________________________________________\n",
      "Layer (type)                 Output Shape              Param #   \n",
      "=================================================================\n",
      "dense_11 (Dense)             (None, 128)               4224      \n",
      "_________________________________________________________________\n",
      "leaky_re_lu_3 (LeakyReLU)    (None, 128)               0         \n",
      "_________________________________________________________________\n",
      "batch_normalization (BatchNo (None, 128)               512       \n",
      "_________________________________________________________________\n",
      "dense_12 (Dense)             (None, 256)               33024     \n",
      "_________________________________________________________________\n",
      "leaky_re_lu_4 (LeakyReLU)    (None, 256)               0         \n",
      "_________________________________________________________________\n",
      "batch_normalization_1 (Batch (None, 256)               1024      \n",
      "_________________________________________________________________\n",
      "dense_13 (Dense)             (None, 512)               131584    \n",
      "_________________________________________________________________\n",
      "leaky_re_lu_5 (LeakyReLU)    (None, 512)               0         \n",
      "_________________________________________________________________\n",
      "batch_normalization_2 (Batch (None, 512)               2048      \n",
      "_________________________________________________________________\n",
      "dense_14 (Dense)             (None, 8)                 4104      \n",
      "=================================================================\n",
      "Total params: 176,520\n",
      "Trainable params: 174,728\n",
      "Non-trainable params: 1,792\n",
      "_________________________________________________________________\n",
      "Model: \"model\"\n",
      "__________________________________________________________________________________________________\n",
      "Layer (type)                    Output Shape         Param #     Connected to                     \n",
      "==================================================================================================\n",
      "input_5 (InputLayer)            [(None, 32)]         0                                            \n",
      "__________________________________________________________________________________________________\n",
      "input_6 (InputLayer)            [(None, 1)]          0                                            \n",
      "__________________________________________________________________________________________________\n",
      "Generator (Model)               (None, 8)            176584      input_5[0][0]                    \n",
      "                                                                 input_6[0][0]                    \n",
      "__________________________________________________________________________________________________\n",
      "Discriminator (Model)           (None, 1)            168977      Generator[1][0]                  \n",
      "                                                                 input_6[0][0]                    \n",
      "==================================================================================================\n",
      "Total params: 345,561\n",
      "Trainable params: 174,792\n",
      "Non-trainable params: 170,769\n",
      "__________________________________________________________________________________________________\n"
     ]
    }
   ],
   "source": [
    "cgans = cGAN(8)"
   ]
  },
  {
   "cell_type": "code",
   "execution_count": 78,
   "metadata": {},
   "outputs": [
    {
     "data": {
      "text/html": [
       "<div>\n",
       "<style scoped>\n",
       "    .dataframe tbody tr th:only-of-type {\n",
       "        vertical-align: middle;\n",
       "    }\n",
       "\n",
       "    .dataframe tbody tr th {\n",
       "        vertical-align: top;\n",
       "    }\n",
       "\n",
       "    .dataframe thead th {\n",
       "        text-align: right;\n",
       "    }\n",
       "</style>\n",
       "<table border=\"1\" class=\"dataframe\">\n",
       "  <thead>\n",
       "    <tr style=\"text-align: right;\">\n",
       "      <th></th>\n",
       "      <th>V7</th>\n",
       "      <th>V3</th>\n",
       "      <th>V11</th>\n",
       "      <th>V4</th>\n",
       "      <th>V12</th>\n",
       "      <th>V17</th>\n",
       "      <th>V10</th>\n",
       "      <th>V14</th>\n",
       "    </tr>\n",
       "  </thead>\n",
       "  <tbody>\n",
       "    <tr>\n",
       "      <th>0</th>\n",
       "      <td>0.239599</td>\n",
       "      <td>2.536347</td>\n",
       "      <td>-0.551600</td>\n",
       "      <td>1.378155</td>\n",
       "      <td>-0.617801</td>\n",
       "      <td>0.207971</td>\n",
       "      <td>0.090794</td>\n",
       "      <td>-0.311169</td>\n",
       "    </tr>\n",
       "    <tr>\n",
       "      <th>1</th>\n",
       "      <td>-0.078803</td>\n",
       "      <td>0.166480</td>\n",
       "      <td>1.612727</td>\n",
       "      <td>0.448154</td>\n",
       "      <td>1.065235</td>\n",
       "      <td>-0.114805</td>\n",
       "      <td>-0.166974</td>\n",
       "      <td>-0.143772</td>\n",
       "    </tr>\n",
       "    <tr>\n",
       "      <th>2</th>\n",
       "      <td>0.791461</td>\n",
       "      <td>1.773209</td>\n",
       "      <td>0.624501</td>\n",
       "      <td>0.379780</td>\n",
       "      <td>0.066084</td>\n",
       "      <td>1.109969</td>\n",
       "      <td>0.207643</td>\n",
       "      <td>-0.165946</td>\n",
       "    </tr>\n",
       "    <tr>\n",
       "      <th>3</th>\n",
       "      <td>0.237609</td>\n",
       "      <td>1.792993</td>\n",
       "      <td>-0.226487</td>\n",
       "      <td>-0.863291</td>\n",
       "      <td>0.178228</td>\n",
       "      <td>-0.684093</td>\n",
       "      <td>-0.054952</td>\n",
       "      <td>-0.287924</td>\n",
       "    </tr>\n",
       "    <tr>\n",
       "      <th>4</th>\n",
       "      <td>0.592941</td>\n",
       "      <td>1.548718</td>\n",
       "      <td>-0.822843</td>\n",
       "      <td>0.403034</td>\n",
       "      <td>0.538196</td>\n",
       "      <td>-0.237033</td>\n",
       "      <td>0.753074</td>\n",
       "      <td>-1.119670</td>\n",
       "    </tr>\n",
       "    <tr>\n",
       "      <th>...</th>\n",
       "      <td>...</td>\n",
       "      <td>...</td>\n",
       "      <td>...</td>\n",
       "      <td>...</td>\n",
       "      <td>...</td>\n",
       "      <td>...</td>\n",
       "      <td>...</td>\n",
       "      <td>...</td>\n",
       "    </tr>\n",
       "    <tr>\n",
       "      <th>284802</th>\n",
       "      <td>-4.918215</td>\n",
       "      <td>-9.834783</td>\n",
       "      <td>-1.593105</td>\n",
       "      <td>-2.066656</td>\n",
       "      <td>2.711941</td>\n",
       "      <td>1.991691</td>\n",
       "      <td>4.356170</td>\n",
       "      <td>4.626942</td>\n",
       "    </tr>\n",
       "    <tr>\n",
       "      <th>284803</th>\n",
       "      <td>0.024330</td>\n",
       "      <td>2.035030</td>\n",
       "      <td>-0.150189</td>\n",
       "      <td>-0.738589</td>\n",
       "      <td>0.915802</td>\n",
       "      <td>-0.025693</td>\n",
       "      <td>-0.975926</td>\n",
       "      <td>-0.675143</td>\n",
       "    </tr>\n",
       "    <tr>\n",
       "      <th>284804</th>\n",
       "      <td>-0.296827</td>\n",
       "      <td>-3.249640</td>\n",
       "      <td>0.411614</td>\n",
       "      <td>-0.557828</td>\n",
       "      <td>0.063119</td>\n",
       "      <td>0.313502</td>\n",
       "      <td>-0.484782</td>\n",
       "      <td>-0.510602</td>\n",
       "    </tr>\n",
       "    <tr>\n",
       "      <th>284805</th>\n",
       "      <td>-0.686180</td>\n",
       "      <td>0.702510</td>\n",
       "      <td>-1.933849</td>\n",
       "      <td>0.689799</td>\n",
       "      <td>-0.962886</td>\n",
       "      <td>0.509928</td>\n",
       "      <td>-0.399126</td>\n",
       "      <td>0.449624</td>\n",
       "    </tr>\n",
       "    <tr>\n",
       "      <th>284806</th>\n",
       "      <td>1.577006</td>\n",
       "      <td>0.703337</td>\n",
       "      <td>-1.040458</td>\n",
       "      <td>-0.506271</td>\n",
       "      <td>-0.031513</td>\n",
       "      <td>-0.660377</td>\n",
       "      <td>-0.915427</td>\n",
       "      <td>-0.084316</td>\n",
       "    </tr>\n",
       "  </tbody>\n",
       "</table>\n",
       "<p>284806 rows × 8 columns</p>\n",
       "</div>"
      ],
      "text/plain": [
       "              V7        V3       V11        V4       V12       V17       V10  \\\n",
       "0       0.239599  2.536347 -0.551600  1.378155 -0.617801  0.207971  0.090794   \n",
       "1      -0.078803  0.166480  1.612727  0.448154  1.065235 -0.114805 -0.166974   \n",
       "2       0.791461  1.773209  0.624501  0.379780  0.066084  1.109969  0.207643   \n",
       "3       0.237609  1.792993 -0.226487 -0.863291  0.178228 -0.684093 -0.054952   \n",
       "4       0.592941  1.548718 -0.822843  0.403034  0.538196 -0.237033  0.753074   \n",
       "...          ...       ...       ...       ...       ...       ...       ...   \n",
       "284802 -4.918215 -9.834783 -1.593105 -2.066656  2.711941  1.991691  4.356170   \n",
       "284803  0.024330  2.035030 -0.150189 -0.738589  0.915802 -0.025693 -0.975926   \n",
       "284804 -0.296827 -3.249640  0.411614 -0.557828  0.063119  0.313502 -0.484782   \n",
       "284805 -0.686180  0.702510 -1.933849  0.689799 -0.962886  0.509928 -0.399126   \n",
       "284806  1.577006  0.703337 -1.040458 -0.506271 -0.031513 -0.660377 -0.915427   \n",
       "\n",
       "             V14  \n",
       "0      -0.311169  \n",
       "1      -0.143772  \n",
       "2      -0.165946  \n",
       "3      -0.287924  \n",
       "4      -1.119670  \n",
       "...          ...  \n",
       "284802  4.626942  \n",
       "284803 -0.675143  \n",
       "284804 -0.510602  \n",
       "284805  0.449624  \n",
       "284806 -0.084316  \n",
       "\n",
       "[284806 rows x 8 columns]"
      ]
     },
     "execution_count": 78,
     "metadata": {},
     "output_type": "execute_result"
    }
   ],
   "source": [
    "X_gans = X_train_origin.loc[:, randomForestFeatures]\n",
    "X_gans"
   ]
  },
  {
   "cell_type": "code",
   "execution_count": 79,
   "metadata": {
    "scrolled": true
   },
   "outputs": [
    {
     "name": "stdout",
     "output_type": "stream",
     "text": [
      "WARNING:tensorflow:Unresolved object in checkpoint: (root).optimizer.iter\n",
      "WARNING:tensorflow:Unresolved object in checkpoint: (root).optimizer.beta_1\n",
      "WARNING:tensorflow:Unresolved object in checkpoint: (root).optimizer.beta_2\n",
      "WARNING:tensorflow:Unresolved object in checkpoint: (root).optimizer.decay\n",
      "WARNING:tensorflow:Unresolved object in checkpoint: (root).optimizer.learning_rate\n",
      "WARNING:tensorflow:A checkpoint was restored (e.g. tf.train.Checkpoint.restore or tf.keras.Model.load_weights) but not all checkpointed values were used. See above for specific issues. Use expect_partial() on the load status object, e.g. tf.train.Checkpoint.restore(...).expect_partial(), to silence these warnings, or use assert_consumed() to make the check explicit. See https://www.tensorflow.org/guide/checkpoint#loading_mechanics for details.\n",
      "49 [D loss: 0.6441879272460938, acc.: 0.0] [G loss: [0.67209935, 0.78125]]\n",
      "99 [D loss: 0.5340803265571594, acc.: 0.0] [G loss: [0.74292016, 0.4375]]\n",
      "149 [D loss: -0.15433374047279358, acc.: 0.0] [G loss: [0.8282268, 0.25]]\n",
      "199 [D loss: -3.7617080211639404, acc.: 0.0] [G loss: [1.0690165, 0.53125]]\n",
      "249 [D loss: -30.17242431640625, acc.: 0.0] [G loss: [1.2656041, 0.375]]\n",
      "299 [D loss: -27.494409561157227, acc.: 0.0] [G loss: [1.6475275, 0.53125]]\n",
      "349 [D loss: -75.05335998535156, acc.: 0.0] [G loss: [1.3439896, 0.59375]]\n",
      "399 [D loss: -167.4522705078125, acc.: 0.0] [G loss: [4.3456917, 0.5625]]\n",
      "449 [D loss: -349.6986999511719, acc.: 0.0] [G loss: [4.216694, 0.65625]]\n",
      "499 [D loss: -581.7980346679688, acc.: 0.0] [G loss: [8.088907, 0.59375]]\n",
      "549 [D loss: -457.57806396484375, acc.: 0.0] [G loss: [13.64632, 0.28125]]\n",
      "599 [D loss: -513.889404296875, acc.: 0.0] [G loss: [23.357021, 0.3125]]\n",
      "649 [D loss: -1993.7330322265625, acc.: 0.0] [G loss: [28.414104, 0.5]]\n",
      "699 [D loss: -2735.571533203125, acc.: 0.0] [G loss: [22.154556, 0.40625]]\n",
      "749 [D loss: -3745.428466796875, acc.: 0.0] [G loss: [62.596706, 0.09375]]\n",
      "799 [D loss: -4199.61865234375, acc.: 0.0] [G loss: [95.717354, 0.125]]\n",
      "849 [D loss: -4004.362548828125, acc.: 0.0] [G loss: [50.47676, 0.375]]\n",
      "899 [D loss: -4877.376953125, acc.: 0.0] [G loss: [65.29515, 0.28125]]\n",
      "949 [D loss: -2853.07373046875, acc.: 0.0] [G loss: [94.025085, 0.40625]]\n",
      "999 [D loss: -2225.432373046875, acc.: 0.0] [G loss: [193.96375, 0.125]]\n",
      "1049 [D loss: -6849.06396484375, acc.: 0.0] [G loss: [115.27574, 0.3125]]\n",
      "1099 [D loss: -6184.33642578125, acc.: 0.0] [G loss: [219.7207, 0.1875]]\n",
      "1149 [D loss: -12924.2392578125, acc.: 0.0] [G loss: [225.914, 0.125]]\n",
      "1199 [D loss: -6647.89599609375, acc.: 0.0] [G loss: [105.40137, 0.5]]\n",
      "1249 [D loss: -13098.3662109375, acc.: 0.0] [G loss: [210.10808, 0.28125]]\n",
      "1299 [D loss: -17774.94140625, acc.: 0.0] [G loss: [191.34781, 0.1875]]\n",
      "1349 [D loss: 99.93257141113281, acc.: 62.5] [G loss: [197.68692, 0.25]]\n",
      "1399 [D loss: 159.17076110839844, acc.: 65.625] [G loss: [257.90866, 0.1875]]\n",
      "1449 [D loss: 121.7281494140625, acc.: 71.875] [G loss: [243.63638, 0.21875]]\n",
      "1499 [D loss: 182.40711975097656, acc.: 67.1875] [G loss: [225.72794, 0.28125]]\n",
      "1549 [D loss: 239.02218627929688, acc.: 59.375] [G loss: [196.36478, 0.3125]]\n",
      "1599 [D loss: 158.2447052001953, acc.: 56.25] [G loss: [207.52884, 0.1875]]\n",
      "1649 [D loss: 222.26083374023438, acc.: 54.6875] [G loss: [225.9667, 0.28125]]\n",
      "1699 [D loss: 107.77890014648438, acc.: 68.75] [G loss: [219.2117, 0.375]]\n",
      "1749 [D loss: 152.73162841796875, acc.: 59.375] [G loss: [182.04927, 0.28125]]\n",
      "1799 [D loss: 137.63238525390625, acc.: 67.1875] [G loss: [313.79663, 0.25]]\n",
      "1849 [D loss: 133.97433471679688, acc.: 59.375] [G loss: [294.78455, 0.15625]]\n",
      "1899 [D loss: 190.97694396972656, acc.: 54.6875] [G loss: [201.90125, 0.34375]]\n",
      "1949 [D loss: 136.92677307128906, acc.: 62.5] [G loss: [279.6762, 0.21875]]\n",
      "1999 [D loss: 149.669677734375, acc.: 67.1875] [G loss: [249.65211, 0.21875]]\n"
     ]
    }
   ],
   "source": [
    "y_train_gans = Y_train_origin.values.reshape(-1,1)\n",
    "pos_index = np.where(y_train_gans==1)[0]\n",
    "neg_index = np.where(y_train_gans==0)[0]\n",
    "cgans.train(X_gans.values, y_train_gans, pos_index, neg_index, epochs=2000)"
   ]
  },
  {
   "cell_type": "code",
   "execution_count": 80,
   "metadata": {},
   "outputs": [
    {
     "data": {
      "text/plain": [
       "(3508, 8)"
      ]
     },
     "execution_count": 80,
     "metadata": {},
     "output_type": "execute_result"
    }
   ],
   "source": [
    "noise = np.random.normal(0, 1, (3508, 32))\n",
    "sampled_labels = np.ones(3508).reshape(-1, 1)\n",
    "gen_samples = cgans.generator.predict([noise, sampled_labels])\n",
    "gen_samples.shape"
   ]
  },
  {
   "cell_type": "code",
   "execution_count": 81,
   "metadata": {},
   "outputs": [],
   "source": [
    "data_fraud_gans= np.concatenate((data_class_fraud.loc[:, randomForestFeatures],gen_samples), axis=0) "
   ]
  },
  {
   "cell_type": "code",
   "execution_count": 82,
   "metadata": {},
   "outputs": [
    {
     "data": {
      "text/plain": [
       "(4000, 8)"
      ]
     },
     "execution_count": 82,
     "metadata": {},
     "output_type": "execute_result"
    }
   ],
   "source": [
    "data_fraud_gans.shape"
   ]
  },
  {
   "cell_type": "code",
   "execution_count": 83,
   "metadata": {},
   "outputs": [
    {
     "data": {
      "text/plain": [
       "(4000, 9)"
      ]
     },
     "execution_count": 83,
     "metadata": {},
     "output_type": "execute_result"
    }
   ],
   "source": [
    "data_fraud_gans = np.concatenate((data_fraud_gans,np.ones((4000,1))),axis=1)\n",
    "data_fraud_gans.shape"
   ]
  },
  {
   "cell_type": "code",
   "execution_count": 84,
   "metadata": {},
   "outputs": [
    {
     "data": {
      "text/html": [
       "<div>\n",
       "<style scoped>\n",
       "    .dataframe tbody tr th:only-of-type {\n",
       "        vertical-align: middle;\n",
       "    }\n",
       "\n",
       "    .dataframe tbody tr th {\n",
       "        vertical-align: top;\n",
       "    }\n",
       "\n",
       "    .dataframe thead th {\n",
       "        text-align: right;\n",
       "    }\n",
       "</style>\n",
       "<table border=\"1\" class=\"dataframe\">\n",
       "  <thead>\n",
       "    <tr style=\"text-align: right;\">\n",
       "      <th></th>\n",
       "      <th>V7</th>\n",
       "      <th>V3</th>\n",
       "      <th>V11</th>\n",
       "      <th>V4</th>\n",
       "      <th>V12</th>\n",
       "      <th>V17</th>\n",
       "      <th>V10</th>\n",
       "      <th>V14</th>\n",
       "      <th>Class</th>\n",
       "    </tr>\n",
       "  </thead>\n",
       "  <tbody>\n",
       "    <tr>\n",
       "      <th>131356</th>\n",
       "      <td>-0.684784</td>\n",
       "      <td>1.362670</td>\n",
       "      <td>-0.187083</td>\n",
       "      <td>0.889259</td>\n",
       "      <td>0.732934</td>\n",
       "      <td>0.212574</td>\n",
       "      <td>-0.289122</td>\n",
       "      <td>-0.396167</td>\n",
       "      <td>0</td>\n",
       "    </tr>\n",
       "    <tr>\n",
       "      <th>37812</th>\n",
       "      <td>0.251587</td>\n",
       "      <td>-0.312330</td>\n",
       "      <td>1.927657</td>\n",
       "      <td>1.228753</td>\n",
       "      <td>0.905329</td>\n",
       "      <td>0.606949</td>\n",
       "      <td>-0.531107</td>\n",
       "      <td>-1.264444</td>\n",
       "      <td>0</td>\n",
       "    </tr>\n",
       "    <tr>\n",
       "      <th>110471</th>\n",
       "      <td>0.479206</td>\n",
       "      <td>-1.341276</td>\n",
       "      <td>0.184792</td>\n",
       "      <td>-0.746894</td>\n",
       "      <td>-0.425922</td>\n",
       "      <td>-0.162433</td>\n",
       "      <td>1.069423</td>\n",
       "      <td>-0.016324</td>\n",
       "      <td>0</td>\n",
       "    </tr>\n",
       "    <tr>\n",
       "      <th>185329</th>\n",
       "      <td>-1.184372</td>\n",
       "      <td>-0.034189</td>\n",
       "      <td>-0.732353</td>\n",
       "      <td>-1.890842</td>\n",
       "      <td>0.619753</td>\n",
       "      <td>-0.361390</td>\n",
       "      <td>-1.339080</td>\n",
       "      <td>-0.187159</td>\n",
       "      <td>0</td>\n",
       "    </tr>\n",
       "    <tr>\n",
       "      <th>71873</th>\n",
       "      <td>1.555357</td>\n",
       "      <td>-0.305253</td>\n",
       "      <td>0.686782</td>\n",
       "      <td>1.019381</td>\n",
       "      <td>-1.077168</td>\n",
       "      <td>2.647026</td>\n",
       "      <td>-1.769695</td>\n",
       "      <td>-3.614381</td>\n",
       "      <td>0</td>\n",
       "    </tr>\n",
       "    <tr>\n",
       "      <th>...</th>\n",
       "      <td>...</td>\n",
       "      <td>...</td>\n",
       "      <td>...</td>\n",
       "      <td>...</td>\n",
       "      <td>...</td>\n",
       "      <td>...</td>\n",
       "      <td>...</td>\n",
       "      <td>...</td>\n",
       "      <td>...</td>\n",
       "    </tr>\n",
       "    <tr>\n",
       "      <th>49687</th>\n",
       "      <td>-0.286290</td>\n",
       "      <td>0.537888</td>\n",
       "      <td>0.016831</td>\n",
       "      <td>-0.464661</td>\n",
       "      <td>0.586813</td>\n",
       "      <td>-0.019311</td>\n",
       "      <td>0.613558</td>\n",
       "      <td>-0.113597</td>\n",
       "      <td>0</td>\n",
       "    </tr>\n",
       "    <tr>\n",
       "      <th>53928</th>\n",
       "      <td>1.026557</td>\n",
       "      <td>0.738642</td>\n",
       "      <td>-0.709838</td>\n",
       "      <td>-0.478710</td>\n",
       "      <td>-0.619915</td>\n",
       "      <td>-0.534234</td>\n",
       "      <td>1.460643</td>\n",
       "      <td>-1.200488</td>\n",
       "      <td>0</td>\n",
       "    </tr>\n",
       "    <tr>\n",
       "      <th>75419</th>\n",
       "      <td>-0.029079</td>\n",
       "      <td>3.083696</td>\n",
       "      <td>-1.467732</td>\n",
       "      <td>1.187891</td>\n",
       "      <td>-0.740898</td>\n",
       "      <td>1.099905</td>\n",
       "      <td>-0.695499</td>\n",
       "      <td>-0.929346</td>\n",
       "      <td>0</td>\n",
       "    </tr>\n",
       "    <tr>\n",
       "      <th>32457</th>\n",
       "      <td>0.054521</td>\n",
       "      <td>2.078003</td>\n",
       "      <td>1.043887</td>\n",
       "      <td>4.174624</td>\n",
       "      <td>0.154455</td>\n",
       "      <td>0.535840</td>\n",
       "      <td>1.394601</td>\n",
       "      <td>0.155369</td>\n",
       "      <td>0</td>\n",
       "    </tr>\n",
       "    <tr>\n",
       "      <th>135121</th>\n",
       "      <td>0.005097</td>\n",
       "      <td>-0.161322</td>\n",
       "      <td>1.151924</td>\n",
       "      <td>-1.745676</td>\n",
       "      <td>0.835473</td>\n",
       "      <td>-0.643480</td>\n",
       "      <td>1.455755</td>\n",
       "      <td>-0.002012</td>\n",
       "      <td>0</td>\n",
       "    </tr>\n",
       "  </tbody>\n",
       "</table>\n",
       "<p>4000 rows × 9 columns</p>\n",
       "</div>"
      ],
      "text/plain": [
       "              V7        V3       V11        V4       V12       V17       V10  \\\n",
       "131356 -0.684784  1.362670 -0.187083  0.889259  0.732934  0.212574 -0.289122   \n",
       "37812   0.251587 -0.312330  1.927657  1.228753  0.905329  0.606949 -0.531107   \n",
       "110471  0.479206 -1.341276  0.184792 -0.746894 -0.425922 -0.162433  1.069423   \n",
       "185329 -1.184372 -0.034189 -0.732353 -1.890842  0.619753 -0.361390 -1.339080   \n",
       "71873   1.555357 -0.305253  0.686782  1.019381 -1.077168  2.647026 -1.769695   \n",
       "...          ...       ...       ...       ...       ...       ...       ...   \n",
       "49687  -0.286290  0.537888  0.016831 -0.464661  0.586813 -0.019311  0.613558   \n",
       "53928   1.026557  0.738642 -0.709838 -0.478710 -0.619915 -0.534234  1.460643   \n",
       "75419  -0.029079  3.083696 -1.467732  1.187891 -0.740898  1.099905 -0.695499   \n",
       "32457   0.054521  2.078003  1.043887  4.174624  0.154455  0.535840  1.394601   \n",
       "135121  0.005097 -0.161322  1.151924 -1.745676  0.835473 -0.643480  1.455755   \n",
       "\n",
       "             V14  Class  \n",
       "131356 -0.396167      0  \n",
       "37812  -1.264444      0  \n",
       "110471 -0.016324      0  \n",
       "185329 -0.187159      0  \n",
       "71873  -3.614381      0  \n",
       "...          ...    ...  \n",
       "49687  -0.113597      0  \n",
       "53928  -1.200488      0  \n",
       "75419  -0.929346      0  \n",
       "32457   0.155369      0  \n",
       "135121 -0.002012      0  \n",
       "\n",
       "[4000 rows x 9 columns]"
      ]
     },
     "execution_count": 84,
     "metadata": {},
     "output_type": "execute_result"
    }
   ],
   "source": [
    "data_nonfraud_gans= data_train[data_train['Class']==0].sample(n=4000).loc[:, randomForestFeatures]\n",
    "data_nonfraud_gans['Class']=0\n",
    "data_nonfraud_gans"
   ]
  },
  {
   "cell_type": "code",
   "execution_count": 85,
   "metadata": {},
   "outputs": [
    {
     "data": {
      "text/plain": [
       "(8000, 9)"
      ]
     },
     "execution_count": 85,
     "metadata": {},
     "output_type": "execute_result"
    }
   ],
   "source": [
    "data_gans= np.concatenate((data_fraud_gans,data_nonfraud_gans), axis=0)\n",
    "data_gans.shape\n",
    "type(data_gans)\n",
    "np.random.shuffle(data_gans)\n",
    "data_gans.shape"
   ]
  },
  {
   "cell_type": "code",
   "execution_count": 86,
   "metadata": {},
   "outputs": [
    {
     "data": {
      "text/plain": [
       "(8000, 8)"
      ]
     },
     "execution_count": 86,
     "metadata": {},
     "output_type": "execute_result"
    }
   ],
   "source": [
    "Y_gans=data_gans[:, -1]\n",
    "X_gans=data_gans[:,:-1]\n",
    "X_gans.shape"
   ]
  },
  {
   "cell_type": "code",
   "execution_count": 87,
   "metadata": {
    "scrolled": true
   },
   "outputs": [
    {
     "name": "stdout",
     "output_type": "stream",
     "text": [
      "Fitting 5 folds for each of 12 candidates, totalling 60 fits\n"
     ]
    },
    {
     "name": "stderr",
     "output_type": "stream",
     "text": [
      "[Parallel(n_jobs=-1)]: Using backend LokyBackend with 4 concurrent workers.\n",
      "[Parallel(n_jobs=-1)]: Done  53 out of  60 | elapsed:    0.4s remaining:    0.0s\n",
      "[Parallel(n_jobs=-1)]: Done  60 out of  60 | elapsed:    0.4s finished\n"
     ]
    },
    {
     "name": "stdout",
     "output_type": "stream",
     "text": [
      "Fitting 5 folds for each of 96 candidates, totalling 480 fits\n"
     ]
    },
    {
     "name": "stderr",
     "output_type": "stream",
     "text": [
      "[Parallel(n_jobs=-1)]: Using backend LokyBackend with 4 concurrent workers.\n",
      "[Parallel(n_jobs=-1)]: Done  42 tasks      | elapsed:   11.7s\n",
      "[Parallel(n_jobs=-1)]: Done 192 tasks      | elapsed:  1.4min\n",
      "[Parallel(n_jobs=-1)]: Done 442 tasks      | elapsed:  3.5min\n",
      "[Parallel(n_jobs=-1)]: Done 480 out of 480 | elapsed:  3.9min finished\n"
     ]
    },
    {
     "name": "stdout",
     "output_type": "stream",
     "text": [
      "Fitting 5 folds for each of 72 candidates, totalling 360 fits\n"
     ]
    },
    {
     "name": "stderr",
     "output_type": "stream",
     "text": [
      "[Parallel(n_jobs=-1)]: Using backend LokyBackend with 4 concurrent workers.\n",
      "[Parallel(n_jobs=-1)]: Done  42 tasks      | elapsed:   39.9s\n",
      "[Parallel(n_jobs=-1)]: Done 192 tasks      | elapsed:  3.3min\n",
      "[Parallel(n_jobs=-1)]: Done 360 out of 360 | elapsed:  7.5min finished\n"
     ]
    }
   ],
   "source": [
    "grid_models =gridSearch(X_gans,Y_gans, models)"
   ]
  },
  {
   "cell_type": "code",
   "execution_count": 88,
   "metadata": {
    "scrolled": false
   },
   "outputs": [
    {
     "name": "stdout",
     "output_type": "stream",
     "text": [
      "Model name :  LogisticRegression(random_state=0)\n",
      "Best Parameters {'C': 0.001, 'penalty': 'l2'}\n",
      "AUC-score : [0.9784734435455504]\n",
      "Precision-Recall-auc:  [0.9422914457200231]\n",
      "Balanced accuracy score [0.9555029897995075]\n",
      "Recall : [0.93]\n",
      "Precision : [0.6326530612244898]\n",
      "F1_score [0.7530364372469636]\n",
      "              precision    recall  f1-score   support\n",
      "\n",
      "           0       1.00      0.98      0.99      2843\n",
      "           1       0.63      0.93      0.75       100\n",
      "\n",
      "    accuracy                           0.98      2943\n",
      "   macro avg       0.82      0.96      0.87      2943\n",
      "weighted avg       0.99      0.98      0.98      2943\n",
      "\n",
      "[[2789   54]\n",
      " [   7   93]]\n",
      "\n",
      "\n",
      "roc_curve:\n"
     ]
    },
    {
     "data": {
      "image/png": "[encoded data removed]",
      "text/plain": [
       "<Figure size 432x288 with 1 Axes>"
      ]
     },
     "metadata": {
      "needs_background": "light"
     },
     "output_type": "display_data"
    },
    {
     "name": "stdout",
     "output_type": "stream",
     "text": [
      "\n",
      "\n",
      "prauc_curve:\n"
     ]
    },
    {
     "data": {
      "image/png": "[encoded data removed]",
      "text/plain": [
       "<Figure size 432x288 with 1 Axes>"
      ]
     },
     "metadata": {
      "needs_background": "light"
     },
     "output_type": "display_data"
    },
    {
     "name": "stdout",
     "output_type": "stream",
     "text": [
      "*********\n",
      "Model name :  XGBClassifier(nthread=4)\n",
      "Best Parameters {'learning_rate': 0.1, 'max_depth': 5, 'n_estimators': 60}\n",
      "AUC-score : [0.9993950052761168]\n",
      "Precision-Recall-auc:  [0.9888203430607261]\n",
      "Balanced accuracy score [0.9878895532887795]\n",
      "Recall : [0.98]\n",
      "Precision : [0.8909090909090909]\n",
      "F1_score [0.9333333333333333]\n",
      "              precision    recall  f1-score   support\n",
      "\n",
      "           0       1.00      1.00      1.00      2843\n",
      "           1       0.89      0.98      0.93       100\n",
      "\n",
      "    accuracy                           1.00      2943\n",
      "   macro avg       0.95      0.99      0.97      2943\n",
      "weighted avg       1.00      1.00      1.00      2943\n",
      "\n",
      "[[2831   12]\n",
      " [   2   98]]\n",
      "\n",
      "\n",
      "roc_curve:\n"
     ]
    },
    {
     "data": {
      "image/png": "[encoded data removed]",
      "text/plain": [
       "<Figure size 432x288 with 1 Axes>"
      ]
     },
     "metadata": {
      "needs_background": "light"
     },
     "output_type": "display_data"
    },
    {
     "name": "stdout",
     "output_type": "stream",
     "text": [
      "\n",
      "\n",
      "prauc_curve:\n"
     ]
    },
    {
     "data": {
      "image/png": "[encoded data removed]",
      "text/plain": [
       "<Figure size 432x288 with 1 Axes>"
      ]
     },
     "metadata": {
      "needs_background": "light"
     },
     "output_type": "display_data"
    },
    {
     "name": "stdout",
     "output_type": "stream",
     "text": [
      "*********\n",
      "Model name :  RandomForestClassifier(random_state=0)\n",
      "Best Parameters {'bootstrap': False, 'max_depth': 30, 'min_samples_split': 2, 'n_estimators': 200}\n",
      "AUC-score : [1.0]\n",
      "Precision-Recall-auc:  [1.0]\n",
      "Balanced accuracy score [0.998593035525853]\n",
      "Recall : [1.0]\n",
      "Precision : [0.9259259259259259]\n",
      "F1_score [0.9615384615384615]\n",
      "              precision    recall  f1-score   support\n",
      "\n",
      "           0       1.00      1.00      1.00      2843\n",
      "           1       0.93      1.00      0.96       100\n",
      "\n",
      "    accuracy                           1.00      2943\n",
      "   macro avg       0.96      1.00      0.98      2943\n",
      "weighted avg       1.00      1.00      1.00      2943\n",
      "\n",
      "[[2835    8]\n",
      " [   0  100]]\n",
      "\n",
      "\n",
      "roc_curve:\n"
     ]
    },
    {
     "data": {
      "image/png": "[encoded data removed]",
      "text/plain": [
       "<Figure size 432x288 with 1 Axes>"
      ]
     },
     "metadata": {
      "needs_background": "light"
     },
     "output_type": "display_data"
    },
    {
     "name": "stdout",
     "output_type": "stream",
     "text": [
      "\n",
      "\n",
      "prauc_curve:\n"
     ]
    },
    {
     "data": {
      "image/png": "[encoded data removed]",
      "text/plain": [
       "<Figure size 432x288 with 1 Axes>"
      ]
     },
     "metadata": {
      "needs_background": "light"
     },
     "output_type": "display_data"
    },
    {
     "name": "stdout",
     "output_type": "stream",
     "text": [
      "*********\n"
     ]
    }
   ],
   "source": [
    "for i in range(len(models)):\n",
    "  print(\"Model name : \", models[i][\"Model\"])\n",
    "  fit_score(grid_models[i], x_test_origin_featureselect.values,y_test_origin)\n",
    "  print(\"*********\")"
   ]
  },
  {
   "cell_type": "markdown",
   "metadata": {},
   "source": [
    "## ANN with GANS"
   ]
  },
  {
   "cell_type": "code",
   "execution_count": 89,
   "metadata": {},
   "outputs": [],
   "source": [
    "def build_model(hp):\n",
    "    model = keras.Sequential()\n",
    "    model.add(layers.Dense(units=hp.Int('units',\n",
    "                                        min_value=32,\n",
    "                                        max_value=512,\n",
    "                                        step=32),\n",
    "                           activation='relu', input_dim=(X_gans.shape[1])))\n",
    "    for i in range(hp.Int('n_layers', 1, 10)):\n",
    "        model.add(layers.Dense(hp.Int(f'conv_{i}_units',\n",
    "                                min_value=32,\n",
    "                                max_value=256,\n",
    "                                step=32), activation=\"relu\"))\n",
    "    model.add(layers.Dense(1, activation='sigmoid'))\n",
    "    model.compile(\n",
    "        optimizer=keras.optimizers.Adam(\n",
    "            hp.Choice('learning_rate',\n",
    "                      values=[1e-2, 1e-3, 1e-4])),\n",
    "        loss='binary_crossentropy',\n",
    "        metrics=['accuracy'])\n",
    "    return model"
   ]
  },
  {
   "cell_type": "code",
   "execution_count": 90,
   "metadata": {},
   "outputs": [
    {
     "name": "stdout",
     "output_type": "stream",
     "text": [
      "INFO:tensorflow:Reloading Oracle from existing project LOG_DIR_GANS\\untitled_project\\oracle.json\n",
      "INFO:tensorflow:Reloading Tuner from LOG_DIR_GANS\\untitled_project\\tuner0.json\n"
     ]
    }
   ],
   "source": [
    "tuner = RandomSearch(\n",
    "    build_model,\n",
    "    objective='val_accuracy',\n",
    "    max_trials=5,\n",
    "    executions_per_trial=2,\n",
    "    directory='LOG_DIR_GANS')"
   ]
  },
  {
   "cell_type": "code",
   "execution_count": 91,
   "metadata": {
    "scrolled": true
   },
   "outputs": [
    {
     "name": "stdout",
     "output_type": "stream",
     "text": [
      "INFO:tensorflow:Oracle triggered exit\n"
     ]
    }
   ],
   "source": [
    "tuner.search(X_gans,\n",
    "            Y_gans,\n",
    "             epochs=7,\n",
    "             batch_size=64,\n",
    "             validation_data=(x_test_origin_featureselect, y_test_origin)\n",
    "            )"
   ]
  },
  {
   "cell_type": "code",
   "execution_count": 92,
   "metadata": {},
   "outputs": [
    {
     "name": "stdout",
     "output_type": "stream",
     "text": [
      "Model: \"sequential\"\n",
      "_________________________________________________________________\n",
      "Layer (type)                 Output Shape              Param #   \n",
      "=================================================================\n",
      "dense (Dense)                (None, 480)               4320      \n",
      "_________________________________________________________________\n",
      "dense_1 (Dense)              (None, 96)                46176     \n",
      "_________________________________________________________________\n",
      "dense_2 (Dense)              (None, 160)               15520     \n",
      "_________________________________________________________________\n",
      "dense_3 (Dense)              (None, 64)                10304     \n",
      "_________________________________________________________________\n",
      "dense_4 (Dense)              (None, 64)                4160      \n",
      "_________________________________________________________________\n",
      "dense_5 (Dense)              (None, 224)               14560     \n",
      "_________________________________________________________________\n",
      "dense_6 (Dense)              (None, 1)                 225       \n",
      "=================================================================\n",
      "Total params: 95,265\n",
      "Trainable params: 95,265\n",
      "Non-trainable params: 0\n",
      "_________________________________________________________________\n"
     ]
    }
   ],
   "source": [
    "tuner.get_best_models()[0].summary()"
   ]
  },
  {
   "cell_type": "code",
   "execution_count": 93,
   "metadata": {},
   "outputs": [
    {
     "data": {
      "text/plain": [
       "{'units': 480,\n",
       " 'n_layers': 5,\n",
       " 'conv_0_units': 96,\n",
       " 'learning_rate': 0.01,\n",
       " 'conv_1_units': 160,\n",
       " 'conv_2_units': 64,\n",
       " 'conv_3_units': 64,\n",
       " 'conv_4_units': 224,\n",
       " 'conv_5_units': 224}"
      ]
     },
     "execution_count": 93,
     "metadata": {},
     "output_type": "execute_result"
    }
   ],
   "source": [
    "tuner.get_best_hyperparameters()[0].values"
   ]
  },
  {
   "cell_type": "code",
   "execution_count": 94,
   "metadata": {},
   "outputs": [
    {
     "name": "stdout",
     "output_type": "stream",
     "text": [
      "WARNING:tensorflow:Unresolved object in checkpoint: (root).optimizer.iter\n",
      "WARNING:tensorflow:Unresolved object in checkpoint: (root).optimizer.beta_1\n",
      "WARNING:tensorflow:Unresolved object in checkpoint: (root).optimizer.beta_2\n",
      "WARNING:tensorflow:Unresolved object in checkpoint: (root).optimizer.decay\n",
      "WARNING:tensorflow:Unresolved object in checkpoint: (root).optimizer.learning_rate\n",
      "WARNING:tensorflow:A checkpoint was restored (e.g. tf.train.Checkpoint.restore or tf.keras.Model.load_weights) but not all checkpointed values were used. See above for specific issues. Use expect_partial() on the load status object, e.g. tf.train.Checkpoint.restore(...).expect_partial(), to silence these warnings, or use assert_consumed() to make the check explicit. See https://www.tensorflow.org/guide/checkpoint#loading_mechanics for details.\n"
     ]
    }
   ],
   "source": [
    "# Retrieve the best model.\n",
    "best_model = tuner.get_best_models(num_models=1)[0]"
   ]
  },
  {
   "cell_type": "code",
   "execution_count": 95,
   "metadata": {},
   "outputs": [
    {
     "name": "stdout",
     "output_type": "stream",
     "text": [
      "2943/2943 [==============================] - ETA: 25s - loss: 0.0039 - accuracy: 1.000 - ETA: 0s - loss: 0.0194 - accuracy: 0.997 - ETA: 0s - loss: 0.0244 - accuracy: 0.99 - ETA: 0s - loss: 0.0212 - accuracy: 0.99 - ETA: 0s - loss: 0.0194 - accuracy: 0.99 - 0s 169us/sample - loss: 0.0196 - accuracy: 0.9966\n"
     ]
    }
   ],
   "source": [
    "# Evaluate the best model.\n",
    "loss, accuracy = best_model.evaluate(x_test_origin_featureselect, y_test_origin)"
   ]
  },
  {
   "cell_type": "code",
   "execution_count": 96,
   "metadata": {},
   "outputs": [
    {
     "name": "stdout",
     "output_type": "stream",
     "text": [
      "the accuracy of the model is :  0.9966021\n"
     ]
    }
   ],
   "source": [
    "print('the accuracy of the model is : ' ,  accuracy)"
   ]
  },
  {
   "cell_type": "code",
   "execution_count": 97,
   "metadata": {},
   "outputs": [
    {
     "name": "stdout",
     "output_type": "stream",
     "text": [
      "The model prauc_score is 0.967018776164681.\n"
     ]
    }
   ],
   "source": [
    "predict_proba_gans = best_model.predict_proba(x_test_origin_featureselect)\n",
    "precision, recall, _ = precision_recall_curve(y_test_origin, predict_proba_gans)\n",
    "auc_score = auc(recall, precision)\n",
    "print(\"The model prauc_score is {}.\".format(auc_score))"
   ]
  },
  {
   "cell_type": "code",
   "execution_count": 98,
   "metadata": {},
   "outputs": [
    {
     "name": "stdout",
     "output_type": "stream",
     "text": [
      "              precision    recall  f1-score   support\n",
      "\n",
      "           0       1.00      1.00      1.00      2843\n",
      "           1       0.98      0.92      0.95       100\n",
      "\n",
      "    accuracy                           1.00      2943\n",
      "   macro avg       0.99      0.96      0.97      2943\n",
      "weighted avg       1.00      1.00      1.00      2943\n",
      "\n",
      "[[2841    2]\n",
      " [   8   92]]\n"
     ]
    }
   ],
   "source": [
    "class_prediction_gans = best_model.predict_classes(x_test_origin_featureselect)\n",
    "print( classification_report(y_test_origin, class_prediction_gans))\n",
    "print(confusion_matrix(y_test_origin, class_prediction_gans))"
   ]
  },
  {
   "cell_type": "markdown",
   "metadata": {},
   "source": [
    "## Make pipeline"
   ]
  },
  {
   "cell_type": "markdown",
   "metadata": {},
   "source": [
    "if we run all : the data is all ready scaled so the pipeline will give an error, therefor we have to reexecute the data "
   ]
  },
  {
   "cell_type": "code",
   "execution_count": 99,
   "metadata": {},
   "outputs": [],
   "source": [
    "def pipeline(data):\n",
    "    rob_scaler = RobustScaler()\n",
    "    scaled_amount = rob_scaler.fit_transform(data['Amount'].values.reshape(-1,1))\n",
    "    scaled_time = rob_scaler.fit_transform(data['Time'].values.reshape(-1,1))\n",
    "    data.insert(0, 'scaled_amount', scaled_amount)\n",
    "    data.insert(1, 'scaled_time', scaled_time)\n",
    "    data.drop(['Time','Amount'], axis=1, inplace=True)\n",
    "    \n",
    "    randomForestFeatures = randomForestSelector(X_RF, Y_RF, 8)\n",
    "    \n",
    "    cgans = cGAN(8)\n",
    "    X_gans = data.loc[:, randomForestFeatures]\n",
    "    y_train_gans = data['Class'].values.reshape(-1,1)\n",
    "    pos_index = np.where(y_train_gans==1)[0]\n",
    "    neg_index = np.where(y_train_gans==0)[0]\n",
    "    cgans.train(X_gans.values, y_train_gans, pos_index, neg_index, epochs=2000)\n",
    "    noise = np.random.normal(0, 1, (3508, 32))\n",
    "    sampled_labels = np.ones(3508).reshape(-1, 1)\n",
    "    gen_samples = cgans.generator.predict([noise, sampled_labels])\n",
    "    data_class_fraud=data.loc[data['Class'] == 1]\n",
    "    data_fraud_gans= np.concatenate((data_class_fraud.loc[:, randomForestFeatures],gen_samples), axis=0) \n",
    "    data_fraud_gans = np.concatenate((data_fraud_gans,np.ones((4000,1))),axis=1)\n",
    "    data_nonfraud_gans= data[data['Class']==0].sample(n=4000).loc[:, randomForestFeatures]\n",
    "    data_nonfraud_gans['Class']=0\n",
    "    data_gans= np.concatenate((data_fraud_gans,data_nonfraud_gans), axis=0)\n",
    "    np.random.shuffle(data_gans)\n",
    "    Y_gans=data_gans[:, -1]\n",
    "    X_gans=data_gans[:,:-1]\n",
    "    clf = RandomForestClassifier(random_state=0, bootstrap=False, max_depth=20, min_samples_split=2, n_estimators=100)\n",
    "    clf.fit(X_gans,Y_gans)\n",
    "    return clf"
   ]
  },
  {
   "cell_type": "code",
   "execution_count": 100,
   "metadata": {},
   "outputs": [
    {
     "data": {
      "image/png": "[encoded data removed]",
      "text/plain": [
       "<Figure size 1440x720 with 1 Axes>"
      ]
     },
     "metadata": {
      "needs_background": "light"
     },
     "output_type": "display_data"
    },
    {
     "name": "stdout",
     "output_type": "stream",
     "text": [
      "Model: \"sequential_1\"\n",
      "_________________________________________________________________\n",
      "Layer (type)                 Output Shape              Param #   \n",
      "=================================================================\n",
      "dense_7 (Dense)              (None, 512)               4608      \n",
      "_________________________________________________________________\n",
      "leaky_re_lu (LeakyReLU)      (None, 512)               0         \n",
      "_________________________________________________________________\n",
      "dense_8 (Dense)              (None, 256)               131328    \n",
      "_________________________________________________________________\n",
      "leaky_re_lu_1 (LeakyReLU)    (None, 256)               0         \n",
      "_________________________________________________________________\n",
      "dropout (Dropout)            (None, 256)               0         \n",
      "_________________________________________________________________\n",
      "dense_9 (Dense)              (None, 128)               32896     \n",
      "_________________________________________________________________\n",
      "leaky_re_lu_2 (LeakyReLU)    (None, 128)               0         \n",
      "_________________________________________________________________\n",
      "dropout_1 (Dropout)          (None, 128)               0         \n",
      "_________________________________________________________________\n",
      "dense_10 (Dense)             (None, 1)                 129       \n",
      "=================================================================\n",
      "Total params: 168,961\n",
      "Trainable params: 168,961\n",
      "Non-trainable params: 0\n",
      "_________________________________________________________________\n",
      "Model: \"sequential_2\"\n",
      "_________________________________________________________________\n",
      "Layer (type)                 Output Shape              Param #   \n",
      "=================================================================\n",
      "dense_11 (Dense)             (None, 128)               4224      \n",
      "_________________________________________________________________\n",
      "leaky_re_lu_3 (LeakyReLU)    (None, 128)               0         \n",
      "_________________________________________________________________\n",
      "batch_normalization (BatchNo (None, 128)               512       \n",
      "_________________________________________________________________\n",
      "dense_12 (Dense)             (None, 256)               33024     \n",
      "_________________________________________________________________\n",
      "leaky_re_lu_4 (LeakyReLU)    (None, 256)               0         \n",
      "_________________________________________________________________\n",
      "batch_normalization_1 (Batch (None, 256)               1024      \n",
      "_________________________________________________________________\n",
      "dense_13 (Dense)             (None, 512)               131584    \n",
      "_________________________________________________________________\n",
      "leaky_re_lu_5 (LeakyReLU)    (None, 512)               0         \n",
      "_________________________________________________________________\n",
      "batch_normalization_2 (Batch (None, 512)               2048      \n",
      "_________________________________________________________________\n",
      "dense_14 (Dense)             (None, 8)                 4104      \n",
      "=================================================================\n",
      "Total params: 176,520\n",
      "Trainable params: 174,728\n",
      "Non-trainable params: 1,792\n",
      "_________________________________________________________________\n",
      "Model: \"model\"\n",
      "__________________________________________________________________________________________________\n",
      "Layer (type)                    Output Shape         Param #     Connected to                     \n",
      "==================================================================================================\n",
      "input_5 (InputLayer)            [(None, 32)]         0                                            \n",
      "__________________________________________________________________________________________________\n",
      "input_6 (InputLayer)            [(None, 1)]          0                                            \n",
      "__________________________________________________________________________________________________\n",
      "Generator (Model)               (None, 8)            176584      input_5[0][0]                    \n",
      "                                                                 input_6[0][0]                    \n",
      "__________________________________________________________________________________________________\n",
      "Discriminator (Model)           (None, 1)            168977      Generator[1][0]                  \n",
      "                                                                 input_6[0][0]                    \n",
      "==================================================================================================\n",
      "Total params: 345,561\n",
      "Trainable params: 174,792\n",
      "Non-trainable params: 170,769\n",
      "__________________________________________________________________________________________________\n",
      "WARNING:tensorflow:Unresolved object in checkpoint: (root).optimizer.iter\n",
      "WARNING:tensorflow:Unresolved object in checkpoint: (root).optimizer.beta_1\n",
      "WARNING:tensorflow:Unresolved object in checkpoint: (root).optimizer.beta_2\n",
      "WARNING:tensorflow:Unresolved object in checkpoint: (root).optimizer.decay\n",
      "WARNING:tensorflow:Unresolved object in checkpoint: (root).optimizer.learning_rate\n",
      "WARNING:tensorflow:A checkpoint was restored (e.g. tf.train.Checkpoint.restore or tf.keras.Model.load_weights) but not all checkpointed values were used. See above for specific issues. Use expect_partial() on the load status object, e.g. tf.train.Checkpoint.restore(...).expect_partial(), to silence these warnings, or use assert_consumed() to make the check explicit. See https://www.tensorflow.org/guide/checkpoint#loading_mechanics for details.\n",
      "49 [D loss: 0.6251238584518433, acc.: 0.0] [G loss: [0.7147477, 0.25]]\n",
      "99 [D loss: 0.37301796674728394, acc.: 0.0] [G loss: [0.79921734, 0.0]]\n",
      "149 [D loss: 0.027207165956497192, acc.: 0.0] [G loss: [1.0255932, 0.09375]]\n",
      "199 [D loss: -11.732437133789062, acc.: 0.0] [G loss: [1.3430765, 0.59375]]\n",
      "249 [D loss: -19.414764404296875, acc.: 0.0] [G loss: [1.9172345, 0.5]]\n",
      "299 [D loss: -61.493194580078125, acc.: 0.0] [G loss: [1.427602, 0.625]]\n",
      "349 [D loss: -115.09703826904297, acc.: 0.0] [G loss: [3.4067676, 0.625]]\n",
      "399 [D loss: -444.4660339355469, acc.: 0.0] [G loss: [9.015303, 0.46875]]\n",
      "449 [D loss: -243.23033142089844, acc.: 0.0] [G loss: [11.165309, 0.125]]\n",
      "499 [D loss: -246.28265380859375, acc.: 0.0] [G loss: [13.95875, 0.34375]]\n",
      "549 [D loss: -817.7530517578125, acc.: 0.0] [G loss: [20.008816, 0.28125]]\n",
      "599 [D loss: -1123.624755859375, acc.: 0.0] [G loss: [21.436071, 0.375]]\n",
      "649 [D loss: -1708.1229248046875, acc.: 0.0] [G loss: [35.609222, 0.28125]]\n",
      "699 [D loss: -1188.5052490234375, acc.: 0.0] [G loss: [85.09347, 0.0625]]\n",
      "749 [D loss: -3922.409423828125, acc.: 0.0] [G loss: [26.630724, 0.46875]]\n",
      "799 [D loss: -2557.915771484375, acc.: 0.0] [G loss: [100.88817, 0.25]]\n",
      "849 [D loss: -4357.00048828125, acc.: 0.0] [G loss: [125.97478, 0.15625]]\n",
      "899 [D loss: -3222.496337890625, acc.: 0.0] [G loss: [106.78287, 0.15625]]\n",
      "949 [D loss: -3706.756591796875, acc.: 0.0] [G loss: [234.85942, 0.09375]]\n",
      "999 [D loss: -3439.349365234375, acc.: 0.0] [G loss: [238.65703, 0.15625]]\n",
      "1049 [D loss: -6652.83447265625, acc.: 0.0] [G loss: [336.99847, 0.21875]]\n",
      "1099 [D loss: -8264.9970703125, acc.: 0.0] [G loss: [401.59906, 0.15625]]\n",
      "1149 [D loss: -13482.1328125, acc.: 0.0] [G loss: [368.29834, 0.28125]]\n",
      "1199 [D loss: -7725.19580078125, acc.: 0.0] [G loss: [528.3484, 0.125]]\n",
      "1249 [D loss: -9385.1767578125, acc.: 0.0] [G loss: [479.24057, 0.53125]]\n",
      "1299 [D loss: -12254.572265625, acc.: 0.0] [G loss: [658.7104, 0.15625]]\n",
      "1349 [D loss: 222.13528442382812, acc.: 56.25] [G loss: [289.60657, 0.375]]\n",
      "1399 [D loss: 211.1198272705078, acc.: 59.375] [G loss: [524.88934, 0.28125]]\n",
      "1449 [D loss: 189.56436157226562, acc.: 62.5] [G loss: [611.2736, 0.1875]]\n",
      "1499 [D loss: 251.4849853515625, acc.: 60.9375] [G loss: [561.77734, 0.25]]\n",
      "1549 [D loss: 189.06069946289062, acc.: 57.8125] [G loss: [514.81323, 0.34375]]\n",
      "1599 [D loss: 189.84959411621094, acc.: 70.3125] [G loss: [637.71246, 0.15625]]\n",
      "1649 [D loss: 260.59637451171875, acc.: 56.25] [G loss: [583.689, 0.21875]]\n",
      "1699 [D loss: 229.02066040039062, acc.: 70.3125] [G loss: [628.36176, 0.25]]\n",
      "1749 [D loss: 118.27225494384766, acc.: 64.0625] [G loss: [500.99036, 0.3125]]\n",
      "1799 [D loss: 134.3077850341797, acc.: 70.3125] [G loss: [581.45636, 0.34375]]\n",
      "1849 [D loss: 216.33395385742188, acc.: 54.6875] [G loss: [595.8026, 0.1875]]\n",
      "1899 [D loss: 144.47976684570312, acc.: 71.875] [G loss: [495.77515, 0.28125]]\n",
      "1949 [D loss: 140.55955505371094, acc.: 70.3125] [G loss: [484.05695, 0.25]]\n",
      "1999 [D loss: 162.8189239501953, acc.: 68.75] [G loss: [413.28183, 0.375]]\n"
     ]
    }
   ],
   "source": [
    "pipe = pipeline(data)"
   ]
  },
  {
   "cell_type": "code",
   "execution_count": 101,
   "metadata": {},
   "outputs": [],
   "source": [
    "def fit_score2(model,X_test,y_test):\n",
    "    y_pred = model.predict(X_test)\n",
    "    probs=model.predict_proba(X_test)\n",
    "    probs_ov=probs[:,1]\n",
    "\n",
    "    print('AUC-score :',  [roc_auc_score(y_test, probs_ov)],)\n",
    "    precision, recall,_ = precision_recall_curve(y_test, probs_ov)\n",
    "    print(\"Precision-Recall-auc: \", [auc(recall, precision)])\n",
    "    print('Balanced accuracy score', [balanced_accuracy_score(y_test,y_pred)])   \n",
    "    print('Recall :' ,  [recall_score(y_test, y_pred)])\n",
    "    print( 'Precision :' , [precision_score(y_test, y_pred)],)\n",
    "    print('F1_score' , [fbeta_score(y_test,y_pred, beta=1.0)])  \n",
    "    print(classification_report(y_test, y_pred))\n",
    "    print(confusion_matrix(y_test, y_pred))\n",
    "\n",
    "    print(\"\\n\\nroc_curve:\")\n",
    "    ns_probs = [0 for _ in range(len(y_test))]\n",
    "    ns_auc = roc_auc_score(y_test, ns_probs)\n",
    "\n",
    "    ns_fpr, ns_tpr, _ = roc_curve(y_test, ns_probs)\n",
    "    lr_fpr, lr_tpr, _ = roc_curve(y_test, probs_ov)\n",
    "\n",
    "    plt.plot(ns_fpr, ns_tpr, linestyle='--', label='x = y')\n",
    "    plt.plot(lr_fpr, lr_tpr, marker='.', label='roc_curve')\n",
    "    plt.xlabel('False Positive Rate')\n",
    "    plt.ylabel('True Positive Rate')\n",
    "    plt.legend()\n",
    "    plt.show()\n",
    "\n",
    "    print(\"\\n\\nprauc_curve:\")\n",
    "    x_y = len(y_test[y_test==1]) / len(y_test)\n",
    "    plt.plot([0, 1], [x_y, x_y], linestyle='--')\n",
    "    plt.plot(recall, precision, marker='.', label='pr_auc_curve')\n",
    "\n",
    "    plt.xlabel('Recall')\n",
    "    plt.ylabel('Precision')\n",
    "    plt.legend()\n",
    "    plt.show()"
   ]
  },
  {
   "cell_type": "code",
   "execution_count": 102,
   "metadata": {},
   "outputs": [
    {
     "name": "stdout",
     "output_type": "stream",
     "text": [
      "AUC-score : [1.0]\n",
      "Precision-Recall-auc:  [1.0]\n",
      "Balanced accuracy score [0.998593035525853]\n",
      "Recall : [1.0]\n",
      "Precision : [0.9259259259259259]\n",
      "F1_score [0.9615384615384615]\n",
      "              precision    recall  f1-score   support\n",
      "\n",
      "           0       1.00      1.00      1.00      2843\n",
      "           1       0.93      1.00      0.96       100\n",
      "\n",
      "    accuracy                           1.00      2943\n",
      "   macro avg       0.96      1.00      0.98      2943\n",
      "weighted avg       1.00      1.00      1.00      2943\n",
      "\n",
      "[[2835    8]\n",
      " [   0  100]]\n",
      "\n",
      "\n",
      "roc_curve:\n"
     ]
    },
    {
     "data": {
      "image/png": "[encoded data removed]",
      "text/plain": [
       "<Figure size 432x288 with 1 Axes>"
      ]
     },
     "metadata": {
      "needs_background": "light"
     },
     "output_type": "display_data"
    },
    {
     "name": "stdout",
     "output_type": "stream",
     "text": [
      "\n",
      "\n",
      "prauc_curve:\n"
     ]
    },
    {
     "data": {
      "image/png": "[encoded data removed]",
      "text/plain": [
       "<Figure size 432x288 with 1 Axes>"
      ]
     },
     "metadata": {
      "needs_background": "light"
     },
     "output_type": "display_data"
    }
   ],
   "source": [
    "fit_score2(pipe, x_test_origin_featureselect,y_test_origin)"
   ]
  },
  {
   "cell_type": "code",
   "execution_count": null,
   "metadata": {},
   "outputs": [],
   "source": []
  }
 ],
 "metadata": {
  "kernelspec": {
   "display_name": "Python 3.7 (tensorflow)",
   "language": "python",
   "name": "tensorflow"
  },
  "language_info": {
   "codemirror_mode": {
    "name": "ipython",
    "version": 3
   },
   "file_extension": ".py",
   "mimetype": "text/x-python",
   "name": "python",
   "nbconvert_exporter": "python",
   "pygments_lexer": "ipython3",
   "version": "3.7.9"
  }
 },
 "nbformat": 4,
 "nbformat_minor": 4
}
